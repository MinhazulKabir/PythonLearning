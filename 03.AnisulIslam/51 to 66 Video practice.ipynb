{
 "cells": [
  {
   "cell_type": "markdown",
   "metadata": {},
   "source": [
    "# OOP"
   ]
  },
  {
   "cell_type": "code",
   "execution_count": 1,
   "metadata": {},
   "outputs": [
    {
     "name": "stdout",
     "output_type": "stream",
     "text": [
      " Roll: 101 and GPA: 3.71\n",
      " Roll: 109 and GPA: 3.21\n"
     ]
    }
   ],
   "source": [
    "#class and Object\n",
    "class Student:\n",
    "    roll=\"\"\n",
    "    gpa=\"\"\n",
    "\n",
    "rahim=Student()\n",
    "#Print isinstance(rahim,Student)) #testing object\n",
    "\n",
    "rahim.roll=101\n",
    "rahim.gpa=3.71\n",
    "print(f\" Roll: {rahim.roll} and GPA: {rahim.gpa}\")\n",
    "\n",
    "karim=Student()\n",
    "karim.roll=109\n",
    "karim.gpa=3.21\n",
    "print(f\" Roll: {karim.roll} and GPA: {karim.gpa}\")"
   ]
  },
  {
   "cell_type": "code",
   "execution_count": 2,
   "metadata": {},
   "outputs": [
    {
     "name": "stdout",
     "output_type": "stream",
     "text": [
      " Roll: 101 and GPA: 3.75\n",
      " Roll: 109 and GPA: 3.21\n"
     ]
    }
   ],
   "source": [
    "#class and Object\n",
    "class Student:\n",
    "    roll=\"\"\n",
    "    gpa=\"\"\n",
    "    #self look like this\n",
    "    def setValue(self, roll, gpa):\n",
    "        self.roll=roll\n",
    "        self.gpa=gpa\n",
    "    def display(self):\n",
    "        print(f\" Roll: {self.roll} and GPA: {self.gpa}\")\n",
    "\n",
    "rahim=Student()\n",
    "rahim.setValue(101,3.75)\n",
    "rahim.display()\n",
    "\n",
    "karim=Student()\n",
    "karim.setValue(109,3.21)\n",
    "karim.display()\n"
   ]
  },
  {
   "cell_type": "code",
   "execution_count": 3,
   "metadata": {},
   "outputs": [
    {
     "name": "stdout",
     "output_type": "stream",
     "text": [
      " Roll: 101 and GPA: 3.75\n",
      " Roll: 109 and GPA: 3.21\n"
     ]
    }
   ],
   "source": [
    "#Constructor মেথড এর ব্যবহার কমায় । \n",
    "class Student:\n",
    "    roll=\"\"\n",
    "    gpa=\"\"\n",
    "    def __init__(self, roll, gpa):\n",
    "        self.roll=roll\n",
    "        self.gpa=gpa\n",
    "        \n",
    "    def display(self):\n",
    "        print(f\" Roll: {self.roll} and GPA: {self.gpa}\")\n",
    "\n",
    "rahim=Student(101,3.75)\n",
    "rahim.display() \n",
    "\n",
    "karim=Student(109,3.21)\n",
    "karim.display()"
   ]
  },
  {
   "cell_type": "code",
   "execution_count": 4,
   "metadata": {},
   "outputs": [
    {
     "name": "stdout",
     "output_type": "stream",
     "text": [
      "Area is 100.0\n",
      "Area is 160.0\n"
     ]
    }
   ],
   "source": [
    "class Triangle:\n",
    "    def __init__(self, base,height):\n",
    "        self.base=base\n",
    "        self.height=height\n",
    "    def printArea(self):\n",
    "        area=0.5*self.base*self.height\n",
    "        print(\"Area is\",area)\n",
    "\n",
    "t1=Triangle(10,20)\n",
    "t1.printArea()\n",
    "\n",
    "t2=Triangle(20,16)\n",
    "t2.printArea()"
   ]
  },
  {
   "cell_type": "code",
   "execution_count": 5,
   "metadata": {},
   "outputs": [
    {
     "name": "stdout",
     "output_type": "stream",
     "text": [
      "Call\n",
      "Message\n",
      "Camera\n",
      "MP3\n",
      "True\n",
      "\n",
      "\n",
      "Call\n",
      "Message\n",
      "False\n"
     ]
    }
   ],
   "source": [
    "#Inheritance\n",
    "class Phone:\n",
    "    #Parent/Super/Base class\n",
    "    def call(self):\n",
    "        print(\"Call\")\n",
    "    def message(self):\n",
    "        print(\"Message\")\n",
    "class Asus(Phone):\n",
    "    ##Asus class extends Phone\n",
    "    #Child/Sub/Derived class\n",
    "    def camera(self):\n",
    "        print(\"Camera\")\n",
    "    def song(self):\n",
    "        print(\"MP3\")\n",
    "a=Asus()\n",
    "#asus class has two class property\n",
    "a.call()\n",
    "a.message()\n",
    "a.camera()\n",
    "a.song()\n",
    "print(issubclass(Asus, Phone))\n",
    "print(\"\\n\")\n",
    "p=Phone()\n",
    "p.call()\n",
    "p.message()\n",
    "print(issubclass(Phone, Asus))"
   ]
  },
  {
   "cell_type": "code",
   "execution_count": 6,
   "metadata": {},
   "outputs": [
    {
     "name": "stdout",
     "output_type": "stream",
     "text": [
      "Phone Constructor\n",
      "ASUS Constructor\n",
      "Phone Constructor\n"
     ]
    }
   ],
   "source": [
    "#Method Over-riding\n",
    "class Phone:\n",
    "    def __init__(self):\n",
    "        print(\"Phone Constructor\")\n",
    "class Asus(Phone):\n",
    "    def __init__(self):\n",
    "        super().__init__()\n",
    "        print(\"ASUS Constructor\")\n",
    "        super().__init__()\n",
    "        \n",
    "a=Asus()"
   ]
  },
  {
   "cell_type": "code",
   "execution_count": 7,
   "metadata": {},
   "outputs": [
    {
     "name": "stdout",
     "output_type": "stream",
     "text": [
      "AREA Rec 200\n",
      "AREA Tri 3.0\n"
     ]
    }
   ],
   "source": [
    "#inheritance example\n",
    "class Shape:\n",
    "    def __init__(self, b, h):\n",
    "        self.b=b\n",
    "        self.h=h\n",
    "    def area(self):\n",
    "        print(\"AREA METHOD\")\n",
    "class Triangle(Shape):\n",
    "    def area(self):\n",
    "        area=0.5*self.b*self.h\n",
    "        print(\"AREA Tri\",area)\n",
    "class Rectangle(Shape):\n",
    "    def area(self):\n",
    "        area=self.b*self.h\n",
    "        print(\"AREA Rec\",area)\n",
    "r=Rectangle(10,20)\n",
    "r.area()\n",
    "t=Triangle(2,3)\n",
    "t.area()"
   ]
  },
  {
   "cell_type": "code",
   "execution_count": 8,
   "metadata": {},
   "outputs": [
    {
     "name": "stdout",
     "output_type": "stream",
     "text": [
      "A class\n",
      "B class\n",
      "C class\n",
      "B class\n"
     ]
    }
   ],
   "source": [
    "#different tye of inheritance \n",
    "#MULTI-LEVEL\n",
    "class A:\n",
    "    def displey(self):\n",
    "        print(\"A class\")\n",
    "class B(A):\n",
    "    def displey2(self):\n",
    "        print(\"B class\")        \n",
    "class C(B):\n",
    "    def displey3(self):\n",
    "        print(\"C class\")\n",
    "        super().displey2()\n",
    "        \n",
    "cc=C()\n",
    "cc.displey()\n",
    "cc.displey2()\n",
    "cc.displey3()"
   ]
  },
  {
   "cell_type": "code",
   "execution_count": 9,
   "metadata": {},
   "outputs": [
    {
     "name": "stdout",
     "output_type": "stream",
     "text": [
      "A class\n",
      "B class\n",
      "C class\n",
      "B class\n"
     ]
    }
   ],
   "source": [
    "#MULTIPLE\n",
    "#different tye of inheritance \n",
    "#MULTI-LEVEL\n",
    "class A:\n",
    "    def displey(self):\n",
    "        print(\"A class\")\n",
    "class B:\n",
    "    def displey2(self):\n",
    "        print(\"B class\")        \n",
    "class C(A,B):\n",
    "    def displey3(self):\n",
    "        print(\"C class\")\n",
    "        super().displey2()\n",
    "        \n",
    "cc=C()\n",
    "cc.displey()\n",
    "cc.displey2()\n",
    "cc.displey3()"
   ]
  },
  {
   "cell_type": "code",
   "execution_count": 10,
   "metadata": {},
   "outputs": [
    {
     "ename": "TypeError",
     "evalue": "Can't instantiate abstract class Shape with abstract methods area",
     "output_type": "error",
     "traceback": [
      "\u001b[1;31m---------------------------------------------------------------------------\u001b[0m",
      "\u001b[1;31mTypeError\u001b[0m                                 Traceback (most recent call last)",
      "\u001b[1;32m<ipython-input-10-55b106816b5c>\u001b[0m in \u001b[0;36m<module>\u001b[1;34m\u001b[0m\n\u001b[0;32m     16\u001b[0m         \u001b[0marea\u001b[0m\u001b[1;33m=\u001b[0m\u001b[0mself\u001b[0m\u001b[1;33m.\u001b[0m\u001b[0mb\u001b[0m\u001b[1;33m*\u001b[0m\u001b[0mself\u001b[0m\u001b[1;33m.\u001b[0m\u001b[0mh\u001b[0m\u001b[1;33m\u001b[0m\u001b[1;33m\u001b[0m\u001b[0m\n\u001b[0;32m     17\u001b[0m         \u001b[0mprint\u001b[0m\u001b[1;33m(\u001b[0m\u001b[1;34m\"AREA Rec\"\u001b[0m\u001b[1;33m,\u001b[0m\u001b[0marea\u001b[0m\u001b[1;33m)\u001b[0m\u001b[1;33m\u001b[0m\u001b[1;33m\u001b[0m\u001b[0m\n\u001b[1;32m---> 18\u001b[1;33m \u001b[0ms\u001b[0m\u001b[1;33m=\u001b[0m\u001b[0mShape\u001b[0m\u001b[1;33m(\u001b[0m\u001b[1;36m10\u001b[0m\u001b[1;33m,\u001b[0m\u001b[1;36m12\u001b[0m\u001b[1;33m)\u001b[0m\u001b[1;33m\u001b[0m\u001b[1;33m\u001b[0m\u001b[0m\n\u001b[0m\u001b[0;32m     19\u001b[0m \u001b[0ms\u001b[0m\u001b[1;33m.\u001b[0m\u001b[0marea\u001b[0m\u001b[1;33m(\u001b[0m\u001b[1;33m)\u001b[0m\u001b[1;33m\u001b[0m\u001b[1;33m\u001b[0m\u001b[0m\n\u001b[0;32m     20\u001b[0m \u001b[1;33m\u001b[0m\u001b[0m\n",
      "\u001b[1;31mTypeError\u001b[0m: Can't instantiate abstract class Shape with abstract methods area"
     ]
    }
   ],
   "source": [
    "#Abstruction\n",
    "from abc import ABC, abstractmethod\n",
    "class Shape(ABC):\n",
    "    def __init__(self, b, h):\n",
    "        self.b=b\n",
    "        self.h=h\n",
    "    @abstractmethod\n",
    "    def area(self):\n",
    "        pass\n",
    "class Triangle(Shape):\n",
    "    def area(self):\n",
    "        area=0.5*self.b*self.h\n",
    "        print(\"AREA Tri\",area)\n",
    "class Rectangle(Shape):\n",
    "    def area(self):\n",
    "        area=self.b*self.h\n",
    "        print(\"AREA Rec\",area)\n",
    "s=Shape(10,12)\n",
    "s.area()\n",
    "\n",
    "r=Rectangle(10,20)\n",
    "r.area()\n",
    "t=Triangle(2,3)\n",
    "t.area()"
   ]
  },
  {
   "cell_type": "code",
   "execution_count": 11,
   "metadata": {},
   "outputs": [
    {
     "name": "stdout",
     "output_type": "stream",
     "text": [
      "14\n",
      "3\n",
      "24\n",
      "32\n"
     ]
    }
   ],
   "source": [
    "#Polimorphism\n",
    "#Built in poymorphism\n",
    "print(len(\"Minhazul Kabir\"))\n",
    "print(len([1,2,3]))\n",
    "#User Define\n",
    "def add(x,y,z=0):\n",
    "    return x+y+z\n",
    "\n",
    "print(add(7,17))\n",
    "print(add(7,17,8))"
   ]
  },
  {
   "cell_type": "code",
   "execution_count": 12,
   "metadata": {},
   "outputs": [
    {
     "name": "stdout",
     "output_type": "stream",
     "text": [
      "Name=Honda Color=Blue\n",
      "Name=Honda Color=Blue\n",
      "True\n"
     ]
    }
   ],
   "source": [
    "#Magic Method\n",
    "class Bike:\n",
    "    def __init__(self, name, color):\n",
    "        self.name=name\n",
    "        self.color=color\n",
    "    #check equality of other object SO THAT print(b1==b2) is true\n",
    "    def __eq__(self, other):\n",
    "        return self.name==other.name and self.color ==other.color\n",
    "    \n",
    "    def __str__(self):\n",
    "        return (f\"Name={self.name} Color={self.color}\")\n",
    "    def display(self):\n",
    "        print(f\"Name={self.name} Color={self.color}\")\n",
    "b1=Bike(\"Honda\",\"Blue\")\n",
    "print(b1)\n",
    "b1.display()\n",
    "b2=Bike(\"Honda\",\"Blue\") \n",
    "print(b1==b2)"
   ]
  },
  {
   "cell_type": "code",
   "execution_count": 13,
   "metadata": {},
   "outputs": [
    {
     "name": "stdout",
     "output_type": "stream",
     "text": [
      "8.0\n"
     ]
    }
   ],
   "source": [
    "#Math Module\n",
    "from math import pow,sqrt\n",
    "# from math import *\n",
    "print(pow(2,3))"
   ]
  },
  {
   "cell_type": "code",
   "execution_count": 14,
   "metadata": {},
   "outputs": [
    {
     "name": "stdout",
     "output_type": "stream",
     "text": [
      "Area of Triangle = 100.0\n",
      "Area of Rectangle = 200\n"
     ]
    }
   ],
   "source": [
    "from moduleF import tri,rec\n",
    "tri(10,20)\n",
    "rec(10,20)"
   ]
  },
  {
   "cell_type": "code",
   "execution_count": 15,
   "metadata": {},
   "outputs": [
    {
     "name": "stdout",
     "output_type": "stream",
     "text": [
      "Not Match\n",
      "Match\n",
      "['a', 'a']\n"
     ]
    }
   ],
   "source": [
    "#Regular Expression\n",
    "import re\n",
    "pattern=r\"colour\"\n",
    "if re.match(pattern,\"Red is a colour\"):\n",
    "    print(\"Match\")\n",
    "else:\n",
    "    print(\"Not Match\")\n",
    "\n",
    "pp=r\"colour\"\n",
    "if re.search(pp,\"Red is a colour\"):\n",
    "    print(\"Match\")\n",
    "else:\n",
    "    print(\"Not Match\")\n",
    "ppp=r\"a\"\n",
    "print(re.findall(ppp,\"Minhazul A Kabir\"))"
   ]
  },
  {
   "cell_type": "code",
   "execution_count": 16,
   "metadata": {},
   "outputs": [
    {
     "name": "stdout",
     "output_type": "stream",
     "text": [
      "<re.Match object; span=(13, 18), match='color'>\n",
      "13\n",
      "18\n",
      "(13, 18)\n"
     ]
    }
   ],
   "source": [
    "import re\n",
    "patt=r\"color\"\n",
    "text=\"My favourite color is White\"\n",
    "match=re.search(patt,text)\n",
    "print(match)\n",
    "if match:\n",
    "    print(match.start())\n",
    "    print(match.end())\n",
    "    print(match.span())"
   ]
  },
  {
   "cell_type": "code",
   "execution_count": 17,
   "metadata": {},
   "outputs": [
    {
     "name": "stdout",
     "output_type": "stream",
     "text": [
      "College RONG is blue and white. Flag RONG is green\n",
      "College COLOR is blue and white. Flag color is green\n"
     ]
    }
   ],
   "source": [
    "#Search and Replace\n",
    "import re\n",
    "pat=r\"color\"\n",
    "text=\"College color is blue and white. Flag color is green\"\n",
    "newT=re.sub(pat,\"RONG\",text)\n",
    "print(newT)\n",
    "newT=re.sub(pat,\"COLOR\",text, count=1)\n",
    "print(newT)"
   ]
  },
  {
   "cell_type": "code",
   "execution_count": 18,
   "metadata": {},
   "outputs": [
    {
     "name": "stdout",
     "output_type": "stream",
     "text": [
      "Match 1\n",
      "Match 2\n",
      "Match 3\n",
      "Match 4\n",
      "Match a+\n"
     ]
    }
   ],
   "source": [
    "#Meta Character\n",
    "import re\n",
    "pattern=r\"colo.r\"\n",
    "if re.match(pattern, \"coloJra\"):\n",
    "    print(\"Match 1\")\n",
    "pattern=r\"colo..r\"\n",
    "if re.match(pattern, \"coloJAra\"):\n",
    "    print(\"Match 2\")\n",
    "pattern=r\"^colo..r$\"\n",
    "if re.match(pattern, \"coloJAr\"):\n",
    "    print(\"Match 3\")\n",
    "pattern=r\"a*\"\n",
    "if re.match(pattern, \"coloJr\"):\n",
    "    print(\"Match 4\")\n",
    "pattern=r\"a+\"\n",
    "if re.match(pattern, \"acoloJr\"):\n",
    "    print(\"Match a+\")\n",
    "\n",
    "pattern=r\"a{1,3}$\"\n",
    "if re.match(pattern, \"aaaa\"):\n",
    "    print(\"Match a aa aaa \")"
   ]
  }
 ],
 "metadata": {
  "kernelspec": {
   "display_name": "Python 3",
   "language": "python",
   "name": "python3"
  },
  "language_info": {
   "codemirror_mode": {
    "name": "ipython",
    "version": 3
   },
   "file_extension": ".py",
   "mimetype": "text/x-python",
   "name": "python",
   "nbconvert_exporter": "python",
   "pygments_lexer": "ipython3",
   "version": "3.7.6"
  }
 },
 "nbformat": 4,
 "nbformat_minor": 4
}
