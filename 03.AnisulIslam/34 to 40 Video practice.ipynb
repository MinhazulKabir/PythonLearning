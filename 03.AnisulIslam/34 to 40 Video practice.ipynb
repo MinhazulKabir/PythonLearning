{
 "cells": [
  {
   "cell_type": "code",
   "execution_count": 1,
   "metadata": {},
   "outputs": [
    {
     "name": "stdout",
     "output_type": "stream",
     "text": [
      "{1, 2, 3, 4, 5, 6}\n",
      "{2, 3, 6, 7, 8}\n",
      "False\n"
     ]
    }
   ],
   "source": [
    "setN={1,2,3,4,5,6,6}\n",
    "setN2=set([2,3,4,6,7])\n",
    "print(setN)\n",
    "setN2.add(8)\n",
    "setN2.remove(4)\n",
    "print(setN2)\n",
    "print(5 in setN2)"
   ]
  },
  {
   "cell_type": "code",
   "execution_count": 2,
   "metadata": {},
   "outputs": [
    {
     "name": "stdout",
     "output_type": "stream",
     "text": [
      "{1, 2, 3, 4, 5, 6, 7, 8}\n"
     ]
    }
   ],
   "source": [
    "print(setN | setN2)"
   ]
  },
  {
   "cell_type": "code",
   "execution_count": 3,
   "metadata": {},
   "outputs": [
    {
     "name": "stdout",
     "output_type": "stream",
     "text": [
      "{2, 3, 6}\n"
     ]
    }
   ],
   "source": [
    "print(setN & setN2)"
   ]
  },
  {
   "cell_type": "code",
   "execution_count": 4,
   "metadata": {},
   "outputs": [
    {
     "name": "stdout",
     "output_type": "stream",
     "text": [
      "{1, 4, 5}\n"
     ]
    }
   ],
   "source": [
    "print(setN-setN2)"
   ]
  },
  {
   "cell_type": "code",
   "execution_count": 5,
   "metadata": {},
   "outputs": [
    {
     "name": "stdout",
     "output_type": "stream",
     "text": [
      "['Minhaz', 'ul', 'Kabir', 'Sagar', 7]\n",
      "['Minhaz', 'ul', 'Kabir', 'Sagar']\n",
      "['Minhaz', 'ul', 'Kabir', 'Sagar', 2]\n",
      "Top of position Minhaz\n"
     ]
    }
   ],
   "source": [
    "'''\n",
    "STACK AND QUEUE \n",
    "'''\n",
    "stck=[]\n",
    "stck.append(\"Minhaz\")\n",
    "stck.append(\"ul\")\n",
    "stck.append(\"Kabir\")\n",
    "stck.append(\"Sagar\")\n",
    "stck.append(7)\n",
    "print(stck)\n",
    "stck.pop()\n",
    "print(stck)\n",
    "stck.append(2)\n",
    "print(stck)\n",
    "print(\"Top of position\",stck[0])\n"
   ]
  },
  {
   "cell_type": "code",
   "execution_count": 6,
   "metadata": {},
   "outputs": [
    {
     "data": {
      "text/plain": [
       "'\\n\\nn=int(input())\\nsetN=set([])\\nfor x in range(n):\\n    p=int(input())\\n    setN.add(p)\\n\\nprint(setN[-1])\\n\\n'"
      ]
     },
     "execution_count": 6,
     "metadata": {},
     "output_type": "execute_result"
    }
   ],
   "source": [
    "'''\n",
    "\n",
    "n=int(input())\n",
    "setN=set([])\n",
    "for x in range(n):\n",
    "    p=int(input())\n",
    "    setN.add(p)\n",
    "\n",
    "print(setN[-1])\n",
    "\n",
    "'''"
   ]
  },
  {
   "cell_type": "code",
   "execution_count": 7,
   "metadata": {},
   "outputs": [
    {
     "name": "stdout",
     "output_type": "stream",
     "text": [
      "Top of position:\t 2\n"
     ]
    }
   ],
   "source": [
    "print(\"Top of position:\\t\",stck[-1])"
   ]
  },
  {
   "cell_type": "code",
   "execution_count": 8,
   "metadata": {},
   "outputs": [
    {
     "name": "stdout",
     "output_type": "stream",
     "text": [
      "deque(['Java', 'JavaScript', 'Python '])\n"
     ]
    }
   ],
   "source": [
    "#QUEUE\n",
    "from collections import deque\n",
    "line=deque([\"C\",\"Java\", \"JavaScript\", \"Python \"])\n",
    "line.popleft()\n",
    "print(line)\n",
    "if not line:\n",
    "    print(\"Blank\")"
   ]
  },
  {
   "cell_type": "code",
   "execution_count": 9,
   "metadata": {},
   "outputs": [
    {
     "name": "stdout",
     "output_type": "stream",
     "text": [
      "30\n",
      "15\n"
     ]
    }
   ],
   "source": [
    "#FUNCTION\n",
    "def add(a,b):\n",
    "    sum=a+b\n",
    "    print(sum)\n",
    "    \n",
    "add(10,20)\n",
    "add(3,12)"
   ]
  },
  {
   "cell_type": "code",
   "execution_count": 10,
   "metadata": {},
   "outputs": [
    {
     "name": "stdout",
     "output_type": "stream",
     "text": [
      "12\n"
     ]
    }
   ],
   "source": [
    "def add3(x,y,z):\n",
    "    sum=x+y+z\n",
    "    print(sum)\n",
    "add3(3,4,5)"
   ]
  },
  {
   "cell_type": "code",
   "execution_count": 11,
   "metadata": {},
   "outputs": [
    {
     "name": "stdout",
     "output_type": "stream",
     "text": [
      "50\n"
     ]
    }
   ],
   "source": [
    "def addi(a,b):\n",
    "    sum=a+b\n",
    "    return sum\n",
    "retVar=addi(20,30)\n",
    "print(retVar)"
   ]
  },
  {
   "cell_type": "code",
   "execution_count": 12,
   "metadata": {},
   "outputs": [
    {
     "name": "stdout",
     "output_type": "stream",
     "text": [
      "20\n",
      "12\n"
     ]
    }
   ],
   "source": [
    " def comp(a,b):\n",
    "        if a>b:\n",
    "            return a\n",
    "        else:\n",
    "            return b\n",
    "r=comp(12,2)\n",
    "maxi=comp\n",
    "print(maxi(10,20))\n",
    "print(r)"
   ]
  },
  {
   "cell_type": "code",
   "execution_count": 13,
   "metadata": {},
   "outputs": [
    {
     "name": "stdout",
     "output_type": "stream",
     "text": [
      "(27, 'Tuple', 'X Arguments', 'M')\n",
      "50\n",
      "122\n",
      "662\n"
     ]
    }
   ],
   "source": [
    "#x args\n",
    "def st(*xargs):\n",
    "    print(xargs)\n",
    "st(27,\"Tuple\",\"X Arguments\", 'M')\n",
    "def ad(*xar):\n",
    "    s=0\n",
    "    for n in xar:\n",
    "        s=s+n\n",
    "    print(s)\n",
    "ad(10,20,20)\n",
    "ad(122)\n",
    "ad(121,121,355,19,46)"
   ]
  },
  {
   "cell_type": "code",
   "execution_count": 14,
   "metadata": {},
   "outputs": [
    {
     "name": "stdout",
     "output_type": "stream",
     "text": [
      "{'id': 1, 'name': 'Dictonary is XXARGS'}\n"
     ]
    }
   ],
   "source": [
    "#xx-args\n",
    "def stu(**xxar):\n",
    "    print(xxar)\n",
    "\n",
    "stu(id=1, name=\"Dictonary is XXARGS\")"
   ]
  },
  {
   "cell_type": "code",
   "execution_count": 15,
   "metadata": {},
   "outputs": [],
   "source": [
    "#Debugging\n",
    "#video 40 এর জন্যে pycharm দিয়ে কাজ করতে হবে । "
   ]
  }
 ],
 "metadata": {
  "kernelspec": {
   "display_name": "Python 3",
   "language": "python",
   "name": "python3"
  },
  "language_info": {
   "codemirror_mode": {
    "name": "ipython",
    "version": 3
   },
   "file_extension": ".py",
   "mimetype": "text/x-python",
   "name": "python",
   "nbconvert_exporter": "python",
   "pygments_lexer": "ipython3",
   "version": "3.7.6"
  }
 },
 "nbformat": 4,
 "nbformat_minor": 4
}
