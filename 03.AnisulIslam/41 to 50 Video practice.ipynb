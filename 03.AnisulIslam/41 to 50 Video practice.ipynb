{
 "cells": [
  {
   "cell_type": "code",
   "execution_count": 1,
   "metadata": {},
   "outputs": [
    {
     "name": "stdout",
     "output_type": "stream",
     "text": [
      "25\n",
      "Main Function 25\n"
     ]
    }
   ],
   "source": [
    "#Main Function\n",
    "def cal(a,b):\n",
    "    return (a+b)**2\n",
    "#lambda parameter: expression\n",
    "print((lambda a,b: (a+b)**2)(2,3))\n",
    "\n",
    "print(\"Main Function\", cal(2,3))"
   ]
  },
  {
   "cell_type": "code",
   "execution_count": 2,
   "metadata": {},
   "outputs": [
    {
     "name": "stdout",
     "output_type": "stream",
     "text": [
      "125\n",
      "125\n"
     ]
    }
   ],
   "source": [
    "def c(x):\n",
    "    return x**3\n",
    "a=c(5)\n",
    "print(a)\n",
    "\n",
    "#same code as above\n",
    "b=(lambda x: x**3)(5)\n",
    "print(b)"
   ]
  },
  {
   "cell_type": "code",
   "execution_count": 3,
   "metadata": {},
   "outputs": [
    {
     "name": "stdout",
     "output_type": "stream",
     "text": [
      "[1, 9, 25, 49, 100]\n"
     ]
    }
   ],
   "source": [
    "#MAP and Filter\n",
    "def sqr(x):\n",
    "    return x*x\n",
    "\n",
    "num=[1,3,5,7,10]\n",
    "r=list(map(sqr,num))\n",
    "print(r)"
   ]
  },
  {
   "cell_type": "code",
   "execution_count": 4,
   "metadata": {},
   "outputs": [
    {
     "name": "stdout",
     "output_type": "stream",
     "text": [
      "[1, 3, 5, 7]\n",
      "[True, True, True, True, False]\n"
     ]
    }
   ],
   "source": [
    "#Filter remove list\n",
    "def sqr(x):\n",
    "    return x%2==1\n",
    "\n",
    "num=[1,3,5,7,10]\n",
    "\n",
    "r=list(filter(sqr,num))\n",
    "print(r)\n",
    "\n",
    "r=list(map(sqr,num))\n",
    "print(r)"
   ]
  },
  {
   "cell_type": "code",
   "execution_count": 5,
   "metadata": {},
   "outputs": [
    {
     "name": "stdout",
     "output_type": "stream",
     "text": [
      "[1, 9, 25, 49, 100]\n",
      "[1, 3, 5, 7]\n"
     ]
    }
   ],
   "source": [
    "#Comprehension List\n",
    "num=[1,3,5,7,10]\n",
    "r=[x*x for x in num]\n",
    "print(r)\n",
    "r=[x for x in num if x%2==1]\n",
    "print(r)"
   ]
  },
  {
   "cell_type": "code",
   "execution_count": 6,
   "metadata": {},
   "outputs": [
    {
     "name": "stdout",
     "output_type": "stream",
     "text": [
      "[(1, 'A', 'a'), (2, 'B', 'b'), (3, 'C', 'c'), (4, 'D', 'd'), (5, 'E', 'e'), (6, 'F', 'f'), (7, 'G', 'g'), (8, 'H', 'a'), (9, 'I', 'b'), (11, 'J', 'c'), (12, 'K', 'd'), (13, 'L', 'e'), (14, 'M', 'f'), (15, 'N', 'g')]\n"
     ]
    }
   ],
   "source": [
    "#Zip Function, \n",
    "roll=[1,2,3,4,5,6,7,8,9,11,12,13,14,15]\n",
    "name=[\"A\", \"B\",\"C\",\"D\",\"E\",\"F\",\"G\",\"H\",\"I\",\"J\",\"K\",\"L\",\"M\",\"N\"]\n",
    "\n",
    "print(list(zip(roll,name,\"abcdefgabcdefg\")))"
   ]
  },
  {
   "cell_type": "code",
   "execution_count": 7,
   "metadata": {},
   "outputs": [
    {
     "name": "stdout",
     "output_type": "stream",
     "text": [
      "720\n"
     ]
    }
   ],
   "source": [
    "#Recursion Function\n",
    "def fact(x):\n",
    "    if x==1:\n",
    "        return 1\n",
    "    else:\n",
    "        return x*fact(x-1)\n",
    "print(fact(6))"
   ]
  },
  {
   "cell_type": "code",
   "execution_count": 8,
   "metadata": {},
   "outputs": [
    {
     "name": "stdout",
     "output_type": "stream",
     "text": [
      "Minhazul Kabir-SUST\n",
      "SAGAR-CU\n",
      "Minhazul Kabir-SUST\n",
      "Minhazul Kabir-SUST\n",
      "68\n"
     ]
    }
   ],
   "source": [
    "#Read File\n",
    "file1=open(\"test.txt\",\"r\") #r for read, r+ for read&write\n",
    "#print(file1.readable())\n",
    "t=file1.read()\n",
    "print(t) \n",
    "\n",
    "fSize=len(t)\n",
    "print(fSize)\n",
    "\n",
    "\n",
    "\n",
    "file1.close()"
   ]
  },
  {
   "cell_type": "code",
   "execution_count": 9,
   "metadata": {},
   "outputs": [
    {
     "name": "stdout",
     "output_type": "stream",
     "text": [
      "Minhazul Kabir-SUST\n",
      "\n",
      "SAGAR-CU\n",
      "\n",
      "Minhazul Kabir-SUST\n",
      "\n",
      "Minhazul Kabir-SUST\n"
     ]
    }
   ],
   "source": [
    "f=open(\"test.txt\",\"r+\")\n",
    "\n",
    "for l in f:\n",
    "    print(l)\n",
    "\n",
    "f.close()"
   ]
  },
  {
   "cell_type": "code",
   "execution_count": 10,
   "metadata": {},
   "outputs": [],
   "source": [
    "file=open(\"new.txt\",\"a\")\n",
    "\n",
    "file.write(\"\\n Adding New Line using 'a' \")\n",
    "\n",
    "file.close()"
   ]
  },
  {
   "cell_type": "code",
   "execution_count": 11,
   "metadata": {},
   "outputs": [],
   "source": [
    "fi=open(\"newF.html\",\"w\")\n",
    "fi.write(\"HI\")\n",
    "fi.close()"
   ]
  },
  {
   "cell_type": "code",
   "execution_count": 12,
   "metadata": {},
   "outputs": [
    {
     "name": "stdout",
     "output_type": "stream",
     "text": [
      "Zero\n",
      "Finally Must Kaj korbe. Error HoK ar na hoK\n",
      "Successful\n"
     ]
    }
   ],
   "source": [
    "#Exception\n",
    "try:\n",
    "    l=[10,0,27]\n",
    "    r=l[0]/l[1]\n",
    "    print(r)\n",
    "    print(\"done\")\n",
    "except ZeroDivisionError:\n",
    "    print(\"Zero\")\n",
    "except IndexError:\n",
    "    print(\"index\")\n",
    "finally:\n",
    "    print(\"Finally Must Kaj korbe. Error HoK ar na hoK\")\n",
    "print(\"Successful\")"
   ]
  },
  {
   "cell_type": "code",
   "execution_count": 13,
   "metadata": {},
   "outputs": [
    {
     "name": "stdout",
     "output_type": "stream",
     "text": [
      "10\n",
      "0\n",
      "Incorrect input\n",
      "Thanks\n"
     ]
    }
   ],
   "source": [
    "#Exception\n",
    "try:\n",
    "    a=int(input())\n",
    "    b=int(input())\n",
    "    r=a/b\n",
    "    print(r)\n",
    "    print(\"done\")\n",
    "except (ZeroDivisionError, IndexError, ValueError) :\n",
    "    print(\"Incorrect input\")\n",
    "finally :\n",
    "    print(\"Thanks\")"
   ]
  }
 ],
 "metadata": {
  "kernelspec": {
   "display_name": "Python 3",
   "language": "python",
   "name": "python3"
  },
  "language_info": {
   "codemirror_mode": {
    "name": "ipython",
    "version": 3
   },
   "file_extension": ".py",
   "mimetype": "text/x-python",
   "name": "python",
   "nbconvert_exporter": "python",
   "pygments_lexer": "ipython3",
   "version": "3.7.6"
  }
 },
 "nbformat": 4,
 "nbformat_minor": 4
}
