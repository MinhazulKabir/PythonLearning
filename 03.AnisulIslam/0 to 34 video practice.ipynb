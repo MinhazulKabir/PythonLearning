{
 "cells": [
  {
   "cell_type": "code",
   "execution_count": 1,
   "metadata": {},
   "outputs": [
    {
     "name": "stdout",
     "output_type": "stream",
     "text": [
      "['c', 'hhhff', 7, 'uytv']\n"
     ]
    }
   ],
   "source": [
    "minh = [\"c\", \"hhhff\", 7, \"uytv\"]\n",
    "\n",
    "print(minh)"
   ]
  },
  {
   "cell_type": "code",
   "execution_count": 2,
   "metadata": {},
   "outputs": [
    {
     "name": "stdout",
     "output_type": "stream",
     "text": [
      "c\n",
      "[7, 'uytv']\n",
      "uytv\n"
     ]
    }
   ],
   "source": [
    "print(minh[0])\n",
    "print(minh[2:])\n",
    "print(minh[-1])"
   ]
  },
  {
   "cell_type": "code",
   "execution_count": 3,
   "metadata": {},
   "outputs": [
    {
     "name": "stdout",
     "output_type": "stream",
     "text": [
      "True\n"
     ]
    }
   ],
   "source": [
    "print(\"c\" in minh)"
   ]
  },
  {
   "cell_type": "code",
   "execution_count": 4,
   "metadata": {},
   "outputs": [
    {
     "name": "stdout",
     "output_type": "stream",
     "text": [
      "False\n"
     ]
    }
   ],
   "source": [
    "print(\"C\" in minh)"
   ]
  },
  {
   "cell_type": "code",
   "execution_count": 5,
   "metadata": {},
   "outputs": [
    {
     "name": "stdout",
     "output_type": "stream",
     "text": [
      "['c', 'hhhff', 7, 'uytv', 'one', 2, 'Three']\n"
     ]
    }
   ],
   "source": [
    "print(minh+[\"one\", 2, \"Three\"])"
   ]
  },
  {
   "cell_type": "code",
   "execution_count": 6,
   "metadata": {},
   "outputs": [
    {
     "name": "stdout",
     "output_type": "stream",
     "text": [
      "['c', 'hhhff', 7, 'uytv']\n"
     ]
    }
   ],
   "source": [
    "print(minh)"
   ]
  },
  {
   "cell_type": "code",
   "execution_count": 7,
   "metadata": {},
   "outputs": [
    {
     "name": "stdout",
     "output_type": "stream",
     "text": [
      "['c', 'hhhff', 7, 'uytv', 'c', 'hhhff', 7, 'uytv', 'c', 'hhhff', 7, 'uytv']\n"
     ]
    }
   ],
   "source": [
    "print(minh*3)"
   ]
  },
  {
   "cell_type": "code",
   "execution_count": 8,
   "metadata": {},
   "outputs": [
    {
     "name": "stdout",
     "output_type": "stream",
     "text": [
      "3\n"
     ]
    }
   ],
   "source": [
    "m = [\"C\", \"C++\", \"ajajh\"]\n",
    "print(len(m))"
   ]
  },
  {
   "cell_type": "code",
   "execution_count": 9,
   "metadata": {},
   "outputs": [],
   "source": [
    "m.append(\"Java\")"
   ]
  },
  {
   "cell_type": "code",
   "execution_count": 10,
   "metadata": {},
   "outputs": [
    {
     "name": "stdout",
     "output_type": "stream",
     "text": [
      "['C', 'C++', 'ajajh', 'Java']\n"
     ]
    }
   ],
   "source": [
    "print(m)"
   ]
  },
  {
   "cell_type": "code",
   "execution_count": 11,
   "metadata": {},
   "outputs": [],
   "source": [
    "m.insert(2,\"OS\")"
   ]
  },
  {
   "cell_type": "code",
   "execution_count": 12,
   "metadata": {},
   "outputs": [
    {
     "name": "stdout",
     "output_type": "stream",
     "text": [
      "['C', 'C++', 'OS', 'ajajh', 'Java']\n"
     ]
    }
   ],
   "source": [
    "print(m)"
   ]
  },
  {
   "cell_type": "code",
   "execution_count": 13,
   "metadata": {},
   "outputs": [],
   "source": [
    "m.remove(\"ajajh\")"
   ]
  },
  {
   "cell_type": "code",
   "execution_count": 14,
   "metadata": {},
   "outputs": [
    {
     "name": "stdout",
     "output_type": "stream",
     "text": [
      "['C', 'C++', 'OS', 'Java']\n"
     ]
    }
   ],
   "source": [
    "print(m)"
   ]
  },
  {
   "cell_type": "code",
   "execution_count": 15,
   "metadata": {},
   "outputs": [
    {
     "name": "stdout",
     "output_type": "stream",
     "text": [
      "['C', 'C++']\n",
      "['OS', 'Java']\n"
     ]
    }
   ],
   "source": [
    "print(m[:2]) \n",
    "print(m[2:])"
   ]
  },
  {
   "cell_type": "code",
   "execution_count": 16,
   "metadata": {},
   "outputs": [
    {
     "name": "stdout",
     "output_type": "stream",
     "text": [
      "4\n"
     ]
    }
   ],
   "source": [
    "print(len(m))"
   ]
  },
  {
   "cell_type": "code",
   "execution_count": 17,
   "metadata": {},
   "outputs": [],
   "source": [
    "a=[4,3,1,2,3,4,5,6]\n",
    "a.sort()"
   ]
  },
  {
   "cell_type": "code",
   "execution_count": 18,
   "metadata": {},
   "outputs": [
    {
     "name": "stdout",
     "output_type": "stream",
     "text": [
      "[1, 2, 3, 3, 4, 4, 5, 6]\n"
     ]
    }
   ],
   "source": [
    "print(a)"
   ]
  },
  {
   "cell_type": "code",
   "execution_count": 19,
   "metadata": {},
   "outputs": [
    {
     "name": "stdout",
     "output_type": "stream",
     "text": [
      "[6, 5, 4, 4, 3, 3, 2, 1]\n"
     ]
    }
   ],
   "source": [
    "a.reverse()\n",
    "print(a)"
   ]
  },
  {
   "cell_type": "code",
   "execution_count": 20,
   "metadata": {},
   "outputs": [
    {
     "data": {
      "text/plain": [
       "1"
      ]
     },
     "execution_count": 20,
     "metadata": {},
     "output_type": "execute_result"
    }
   ],
   "source": [
    "a.pop()"
   ]
  },
  {
   "cell_type": "code",
   "execution_count": 21,
   "metadata": {},
   "outputs": [
    {
     "name": "stdout",
     "output_type": "stream",
     "text": [
      "[6, 5, 4, 4, 3, 3, 2]\n"
     ]
    }
   ],
   "source": [
    "print(a)"
   ]
  },
  {
   "cell_type": "code",
   "execution_count": 22,
   "metadata": {},
   "outputs": [],
   "source": [
    "a.clear()"
   ]
  },
  {
   "cell_type": "code",
   "execution_count": 23,
   "metadata": {},
   "outputs": [
    {
     "name": "stdout",
     "output_type": "stream",
     "text": [
      "[]\n"
     ]
    }
   ],
   "source": [
    "print(a)"
   ]
  },
  {
   "cell_type": "code",
   "execution_count": 24,
   "metadata": {},
   "outputs": [],
   "source": [
    "a=m"
   ]
  },
  {
   "cell_type": "code",
   "execution_count": 25,
   "metadata": {},
   "outputs": [
    {
     "name": "stdout",
     "output_type": "stream",
     "text": [
      "['C', 'C++', 'OS', 'Java']\n"
     ]
    }
   ],
   "source": [
    "print(a)"
   ]
  },
  {
   "cell_type": "code",
   "execution_count": 26,
   "metadata": {},
   "outputs": [
    {
     "data": {
      "text/plain": [
       "2"
      ]
     },
     "execution_count": 26,
     "metadata": {},
     "output_type": "execute_result"
    }
   ],
   "source": [
    "m.index(\"OS\")"
   ]
  },
  {
   "cell_type": "code",
   "execution_count": 27,
   "metadata": {},
   "outputs": [
    {
     "data": {
      "text/plain": [
       "1"
      ]
     },
     "execution_count": 27,
     "metadata": {},
     "output_type": "execute_result"
    }
   ],
   "source": [
    "m.count(\"C\")"
   ]
  },
  {
   "cell_type": "code",
   "execution_count": 28,
   "metadata": {},
   "outputs": [
    {
     "data": {
      "text/plain": [
       "range(0, 10)"
      ]
     },
     "execution_count": 28,
     "metadata": {},
     "output_type": "execute_result"
    }
   ],
   "source": [
    "range(10)"
   ]
  },
  {
   "cell_type": "code",
   "execution_count": 29,
   "metadata": {},
   "outputs": [
    {
     "data": {
      "text/plain": [
       "[0, 1, 2, 3, 4, 5, 6, 7, 8, 9]"
      ]
     },
     "execution_count": 29,
     "metadata": {},
     "output_type": "execute_result"
    }
   ],
   "source": [
    "list(range(10))"
   ]
  },
  {
   "cell_type": "code",
   "execution_count": 30,
   "metadata": {},
   "outputs": [
    {
     "name": "stdout",
     "output_type": "stream",
     "text": [
      "[2, 3, 4, 5, 6, 7, 8, 9]\n"
     ]
    }
   ],
   "source": [
    "print(list(range(2,10)))"
   ]
  },
  {
   "cell_type": "code",
   "execution_count": 31,
   "metadata": {},
   "outputs": [
    {
     "name": "stdout",
     "output_type": "stream",
     "text": [
      "[16, 17, 18, 19, 20, 21, 22]\n"
     ]
    }
   ],
   "source": [
    "print(list(range(16,23)))"
   ]
  },
  {
   "cell_type": "code",
   "execution_count": 32,
   "metadata": {},
   "outputs": [
    {
     "name": "stdout",
     "output_type": "stream",
     "text": [
      "[16, 19, 22]\n"
     ]
    }
   ],
   "source": [
    "print(list(range(16,23,3)))"
   ]
  },
  {
   "cell_type": "code",
   "execution_count": 33,
   "metadata": {},
   "outputs": [
    {
     "name": "stdout",
     "output_type": "stream",
     "text": [
      "7\n"
     ]
    }
   ],
   "source": [
    "a=list(range(4,22))\n",
    "print(a[3])"
   ]
  },
  {
   "cell_type": "code",
   "execution_count": 34,
   "metadata": {},
   "outputs": [
    {
     "name": "stdout",
     "output_type": "stream",
     "text": [
      "[4, 5, 6, 7, 8, 9, 10, 11, 12, 13, 14, 15, 16, 17, 18, 19, 20, 21]\n"
     ]
    }
   ],
   "source": [
    "print(a)"
   ]
  },
  {
   "cell_type": "code",
   "execution_count": 35,
   "metadata": {},
   "outputs": [
    {
     "name": "stdout",
     "output_type": "stream",
     "text": [
      "4\n",
      "5\n",
      "6\n",
      "7\n",
      "8\n",
      "9\n",
      "10\n",
      "11\n",
      "12\n",
      "13\n",
      "14\n",
      "15\n",
      "16\n",
      "17\n",
      "18\n",
      "19\n",
      "20\n",
      "21\n"
     ]
    }
   ],
   "source": [
    "for x in a:\n",
    "    print(x)"
   ]
  },
  {
   "cell_type": "code",
   "execution_count": 36,
   "metadata": {},
   "outputs": [
    {
     "name": "stdout",
     "output_type": "stream",
     "text": [
      "4 5 6 7 8 9 10 11 12 13 14 15 16 17 18 19 20 21 "
     ]
    }
   ],
   "source": [
    "count = 0\n",
    "while count<len(a):\n",
    "    print(a[count], end=\" \")\n",
    "    count = count+1"
   ]
  },
  {
   "cell_type": "code",
   "execution_count": 37,
   "metadata": {},
   "outputs": [
    {
     "name": "stdout",
     "output_type": "stream",
     "text": [
      "4 5 6 7 8 9 10 11 12 13 14 15 16 17 18 19 20 21 "
     ]
    }
   ],
   "source": [
    "\"\"\" \n",
    "For Loop\n",
    "\"\"\"\n",
    "for pp in a:\n",
    "    print(pp,end=\" \")"
   ]
  },
  {
   "cell_type": "code",
   "execution_count": 38,
   "metadata": {},
   "outputs": [
    {
     "name": "stdout",
     "output_type": "stream",
     "text": [
      "378\n"
     ]
    }
   ],
   "source": [
    "sum=0\n",
    "for p2 in a:\n",
    "    sum=sum+pp\n",
    "print(sum)"
   ]
  },
  {
   "cell_type": "code",
   "execution_count": 39,
   "metadata": {},
   "outputs": [
    {
     "name": "stdout",
     "output_type": "stream",
     "text": [
      "ENter the Last Number10\n",
      "1 3 6 10 15 21 28 36 45 55 "
     ]
    }
   ],
   "source": [
    "#1+2+3+.............+n\n",
    "n=int(input(\"ENter the Last Number\"))\n",
    "sum=0\n",
    "for x2 in range(1,n+1,1):\n",
    "    sum=sum+x2\n",
    "    print(sum,end=\" \")"
   ]
  },
  {
   "cell_type": "code",
   "execution_count": 40,
   "metadata": {},
   "outputs": [
    {
     "name": "stdout",
     "output_type": "stream",
     "text": [
      "ENter the Last Number20\n",
      "2 6 12 20 30 42 56 72 90 110 "
     ]
    }
   ],
   "source": [
    "#2+4+6+.............+n\n",
    "n=int(input(\"ENter the Last Number\"))\n",
    "sum=0\n",
    "for x2 in range(2,n+1,2):\n",
    "    sum=sum+x2\n",
    "    print(sum,end=\" \")"
   ]
  },
  {
   "cell_type": "code",
   "execution_count": 41,
   "metadata": {},
   "outputs": [
    {
     "name": "stdout",
     "output_type": "stream",
     "text": [
      "ENter the Last Number6\n",
      "1 5 14 30 55 91 "
     ]
    }
   ],
   "source": [
    "#1^2+2^2+3^2+.............+n^2\n",
    "n=int(input(\"ENter the Last Number\"))\n",
    "sum=0\n",
    "for x2 in range(1,n+1,1):\n",
    "    sum=sum+x2*x2\n",
    "    print(sum,end=\" \")"
   ]
  },
  {
   "cell_type": "code",
   "execution_count": 42,
   "metadata": {},
   "outputs": [
    {
     "name": "stdout",
     "output_type": "stream",
     "text": [
      "ENter the Last Number7\n",
      "1 2 6 24 120 720 5040 "
     ]
    }
   ],
   "source": [
    "#1*2*3*.............*n\n",
    "n=int(input(\"ENter the Last Number\"))\n",
    "sum=1\n",
    "for x2 in range(1,n+1,1):\n",
    "    sum=sum*x2\n",
    "    print(sum,end=\" \")"
   ]
  },
  {
   "cell_type": "code",
   "execution_count": 43,
   "metadata": {},
   "outputs": [
    {
     "name": "stdout",
     "output_type": "stream",
     "text": [
      "Enter a number5\n",
      "\n",
      "*\n",
      "**\n",
      "***\n",
      "****\n",
      "*****\n"
     ]
    }
   ],
   "source": [
    "'''\n",
    "*\n",
    "**\n",
    "***\n",
    "****\n",
    "'''\n",
    "n=int(input(\"Enter a number\"))\n",
    "for x in range (n+1):\n",
    "    print(x*\"*\")"
   ]
  },
  {
   "cell_type": "code",
   "execution_count": 44,
   "metadata": {},
   "outputs": [
    {
     "name": "stdout",
     "output_type": "stream",
     "text": [
      "Enter a number7\n",
      "*\n",
      "***\n",
      "*****\n",
      "*******\n"
     ]
    }
   ],
   "source": [
    "'''\n",
    "*\n",
    "***\n",
    "*****\n",
    "********\n",
    "'''\n",
    "n=int(input(\"Enter a number\"))\n",
    "for x in range (1,n+1,2):\n",
    "    print(x*\"*\")"
   ]
  },
  {
   "cell_type": "code",
   "execution_count": 45,
   "metadata": {},
   "outputs": [
    {
     "name": "stdout",
     "output_type": "stream",
     "text": [
      "Enter a number8\n",
      "\n",
      "*\n",
      "***\n",
      "*****\n",
      "*******\n",
      "*********\n",
      "***********\n",
      "*************\n",
      "***************\n"
     ]
    }
   ],
   "source": [
    "'''\n",
    "*\n",
    "***\n",
    "*****\n",
    "********\n",
    "'''\n",
    "n=int(input(\"Enter a number\"))\n",
    "for x in range (n+1):\n",
    "    print((2*x-1)*\"*\")"
   ]
  },
  {
   "cell_type": "code",
   "execution_count": 46,
   "metadata": {},
   "outputs": [
    {
     "name": "stdout",
     "output_type": "stream",
     "text": [
      "Enter a number7\n",
      "[1, 2, 3, 4, 5, 6, 7]\n",
      "*************\n",
      "***********\n",
      "*********\n",
      "*******\n",
      "*****\n",
      "***\n",
      "*\n"
     ]
    }
   ],
   "source": [
    "'''\n",
    "********\n",
    "******\n",
    "****\n",
    "*\n",
    "'''\n",
    "n=int(input(\"Enter a number\"))\n",
    "l=list(range(1,n+1))\n",
    "print(l)\n",
    "l.reverse()\n",
    "for x in l:\n",
    "    print((2*x-1)*\"*\")"
   ]
  },
  {
   "cell_type": "code",
   "execution_count": 47,
   "metadata": {},
   "outputs": [
    {
     "name": "stdout",
     "output_type": "stream",
     "text": [
      "Enter a Number 8\n",
      " ********\n",
      "  *******\n",
      "   ******\n",
      "    *****\n",
      "     ****\n",
      "      ***\n",
      "       **\n",
      "        *\n"
     ]
    }
   ],
   "source": [
    "'''\n",
    "********\n",
    "******\n",
    "****\n",
    "*\n",
    "'''\n",
    "n=int(input(\"Enter a Number \"))\n",
    "for x in range(n):\n",
    "    print(\" \"*x,\"*\"*(n-x))"
   ]
  },
  {
   "cell_type": "code",
   "execution_count": 48,
   "metadata": {},
   "outputs": [
    {
     "name": "stdout",
     "output_type": "stream",
     "text": [
      "Number 1 to 5:4\n",
      "WON\n"
     ]
    }
   ],
   "source": [
    "import random\n",
    "guessN=int(input(\"Number 1 to 5:\"))\n",
    "randomN=random.randint(1,5)\n",
    "if guessN==randomN:\n",
    "    print(\"WON\")\n",
    "else:\n",
    "    print(\"Lost\",randomN)"
   ]
  },
  {
   "cell_type": "code",
   "execution_count": 49,
   "metadata": {},
   "outputs": [
    {
     "name": "stdout",
     "output_type": "stream",
     "text": [
      "Number 1 to 5: 3\n",
      "Lost 4\n"
     ]
    }
   ],
   "source": [
    "#random number game\n",
    "from random import randint\n",
    "guessN=int(input(\"Number 1 to 5: \"))\n",
    "randomN=randint(1,5)\n",
    "if guessN==randomN:\n",
    "    print(\"WON\")\n",
    "else:\n",
    "    print(\"Lost\",randomN)"
   ]
  },
  {
   "cell_type": "code",
   "execution_count": 50,
   "metadata": {},
   "outputs": [
    {
     "name": "stdout",
     "output_type": "stream",
     "text": [
      "Enter a number1 2 3 4 5 6 7 8 9 10\n",
      "1 3 6 10 15 21 28 36 45 55 "
     ]
    }
   ],
   "source": [
    "n=input(\"Enter a number\")\n",
    "list1=n.split()\n",
    "sum=0\n",
    "for mm in list1:\n",
    "    sum=sum+int(mm)\n",
    "    print(sum,end=\" \")"
   ]
  },
  {
   "cell_type": "code",
   "execution_count": 51,
   "metadata": {},
   "outputs": [
    {
     "name": "stdout",
     "output_type": "stream",
     "text": [
      "Enter a Number 5\n",
      "      \n",
      "     *\n",
      "    **\n",
      "   ***\n",
      "  ****\n",
      " *****\n"
     ]
    }
   ],
   "source": [
    "n=int(input(\"Enter a Number \"))\n",
    "for x in range(n+1):\n",
    "    print(\" \"*(n-x),\"*\"*x)"
   ]
  },
  {
   "cell_type": "code",
   "execution_count": 52,
   "metadata": {},
   "outputs": [
    {
     "name": "stdout",
     "output_type": "stream",
     "text": [
      "Enter a Line:\tMd. Minhazul Kabir, 01987847107\n",
      "Word: 4\n",
      "Letter:  15\n",
      "Digit:  11\n"
     ]
    }
   ],
   "source": [
    "text = input(\"Enter a Line:\\t\")\n",
    "nW=1\n",
    "nL=0\n",
    "nD=0\n",
    "text=text.lower()\n",
    "for x in text:\n",
    "    if x>='a' and x<='z':\n",
    "        nL=nL+1\n",
    "    elif x>='0' and x<='9':\n",
    "        nD=nD+1\n",
    "    elif x==' ':\n",
    "        nW=nW+1\n",
    "    \n",
    "print(\"Word:\", nW)\n",
    "print(\"Letter: \",nL)\n",
    "print(\"Digit: \",nD)"
   ]
  },
  {
   "cell_type": "code",
   "execution_count": 53,
   "metadata": {},
   "outputs": [
    {
     "name": "stdout",
     "output_type": "stream",
     "text": [
      "1 2 3 \n",
      "5 6 7 \n",
      "8 334 3 \n",
      "5 6 7 \n"
     ]
    }
   ],
   "source": [
    "#Matrix\n",
    "mat=[\n",
    "    [1,2,3],\n",
    "    [5,6,7],\n",
    "    [8,334,3],\n",
    "    [5,6,7]\n",
    "]\n",
    "#print(mat)\n",
    "for a in mat:\n",
    "    for b in a:\n",
    "        print(b,end=\" \")\n",
    "    print()"
   ]
  },
  {
   "cell_type": "code",
   "execution_count": 54,
   "metadata": {},
   "outputs": [
    {
     "name": "stdout",
     "output_type": "stream",
     "text": [
      "Not a valid key\n"
     ]
    }
   ],
   "source": [
    "#Dictonary\n",
    "student={\n",
    "    \"var1\": \"Minhazul Kabir\",\n",
    "    \"var2\": \"01987847107\",\n",
    "    \"var3\": \"ASUS\",\n",
    "    \"var4\": \"HP\",\n",
    "}\n",
    "#print(student)\n",
    "print(student.get(\"var100\", \"Not a valid key\"))\n",
    "#for a in student:\n",
    "   "
   ]
  },
  {
   "cell_type": "code",
   "execution_count": 55,
   "metadata": {},
   "outputs": [
    {
     "name": "stdout",
     "output_type": "stream",
     "text": [
      "('Minhaz', 'Kabir', 'iPhone')\n",
      "Minhaz\n",
      "Kabir\n",
      "iPhone\n"
     ]
    }
   ],
   "source": [
    "#Tuple Constant list\n",
    "top=(\n",
    "\"Minhaz\",\n",
    "\"Kabir\",\n",
    "\"iPhone\"\n",
    ")\n",
    "#top[0]=\"1\"      error \n",
    "print(top)\n",
    "for a in top:\n",
    "    print(a)"
   ]
  },
  {
   "cell_type": "code",
   "execution_count": 56,
   "metadata": {},
   "outputs": [
    {
     "name": "stdout",
     "output_type": "stream",
     "text": [
      "('iPhone', 1987847107)\n",
      "\n",
      "('Minhaz', (1, 56, 'Sagar', 'K', 67), 'iPhone', 1987847107)\n"
     ]
    }
   ],
   "source": [
    "#Tuple Constant list first bracket\n",
    "top=(\n",
    "\"Minhaz\",\n",
    "(1,56,\"Sagar\", 'K', 67),\n",
    "\"iPhone\",\n",
    "    1987847107,\n",
    ")\n",
    "print(top[2:],end=\"\\n\\n\")\n",
    "print(top)"
   ]
  }
 ],
 "metadata": {
  "kernelspec": {
   "display_name": "Python 3",
   "language": "python",
   "name": "python3"
  },
  "language_info": {
   "codemirror_mode": {
    "name": "ipython",
    "version": 3
   },
   "file_extension": ".py",
   "mimetype": "text/x-python",
   "name": "python",
   "nbconvert_exporter": "python",
   "pygments_lexer": "ipython3",
   "version": "3.7.3"
  }
 },
 "nbformat": 4,
 "nbformat_minor": 4
}
