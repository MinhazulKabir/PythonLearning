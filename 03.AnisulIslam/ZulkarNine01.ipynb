{
 "cells": [
  {
   "cell_type": "markdown",
   "metadata": {},
   "source": [
    "# Convert & Concatanation"
   ]
  },
  {
   "cell_type": "code",
   "execution_count": 1,
   "metadata": {},
   "outputs": [
    {
     "name": "stdout",
     "output_type": "stream",
     "text": [
      "Minhazul Kabir : 01987847107\n",
      "<class 'str'>\n",
      "Lenght of Line :28\n"
     ]
    }
   ],
   "source": [
    "name=\"Minhazul Kabir \"\n",
    "num=1987847107\n",
    "newVar=name+\": 0\"+str(num)\n",
    "print(newVar)\n",
    "print(type(newVar))\n",
    "print(f\"Lenght of Line :{len(newVar)}\")"
   ]
  },
  {
   "cell_type": "markdown",
   "metadata": {},
   "source": [
    "## List"
   ]
  },
  {
   "cell_type": "code",
   "execution_count": 2,
   "metadata": {},
   "outputs": [
    {
     "name": "stdout",
     "output_type": "stream",
     "text": [
      "['Rice', 'Potato', 'Pulse', 'Tomato']\n",
      "['Rice', 'Potato', 'Pulse', 'Tomato', 'Salt']\n",
      "['Rice', 'Potato', 'Water', 'Pulse', 'Tomato', 'Salt']\n",
      "[] []\n",
      "Rice\n",
      "Salt\n"
     ]
    },
    {
     "data": {
      "text/plain": [
       "4"
      ]
     },
     "execution_count": 2,
     "metadata": {},
     "output_type": "execute_result"
    }
   ],
   "source": [
    "grossaryList=[\"Rice\", \"Potato\", \"Pulse\", \"Tomato\"]\n",
    "print(grossaryList)\n",
    "grossaryList.append(\"Salt\")\n",
    "print(grossaryList)\n",
    "grossaryList.insert(2,\"Water\")\n",
    "print(grossaryList)\n",
    "list2=list() #Empty List Create\n",
    "list3=[] #Empty List Create\n",
    "print(list2, list3)\n",
    "ss=grossaryList[0]\n",
    "print(ss)\n",
    "print(grossaryList[-1]) #-1=last item\n",
    "grossaryList.index(\"Tomato\")"
   ]
  },
  {
   "cell_type": "markdown",
   "metadata": {},
   "source": [
    "# Sort"
   ]
  },
  {
   "cell_type": "code",
   "execution_count": 3,
   "metadata": {},
   "outputs": [
    {
     "name": "stdout",
     "output_type": "stream",
     "text": [
      "['Rice', 'Potato', 'Water', 'Pulse', 'Tomato', 'Salt']\n",
      "['Potato', 'Pulse', 'Rice', 'Salt', 'Tomato', 'Water']\n",
      "['Potato', 'Pulse', 'Rice', 'Salt', 'Tomato', 'Water']\n",
      "[1, 2, 2, 27, 66, 88, 90]\n"
     ]
    }
   ],
   "source": [
    "grossaryList=[\"Rice\", \"Potato\", \"Water\", \"Pulse\", \"Tomato\", \"Salt\"]\n",
    "print(grossaryList)\n",
    "grossaryList.sort()\n",
    "print(grossaryList)\n",
    "newSortG=sorted(grossaryList)\n",
    "print(newSortG)\n",
    "numL=[88,66,90,27,1,2,2]\n",
    "newN=sorted(numL)\n",
    "print(newN)"
   ]
  },
  {
   "cell_type": "markdown",
   "metadata": {},
   "source": [
    "# True and False"
   ]
  },
  {
   "cell_type": "code",
   "execution_count": 4,
   "metadata": {},
   "outputs": [
    {
     "name": "stdout",
     "output_type": "stream",
     "text": [
      "true and false test: True\n",
      "true and false test: False\n",
      "0 OR 1\n",
      "0 3 6 9 12 15 18 21 24 27 30 33 36 39 42 45 48 51 54 57 60 63 66 69 72 75 78 81 84 87 90 93 96 99 "
     ]
    }
   ],
   "source": [
    "tr=19>15\n",
    "message=\"true and false test: \"+str(tr)\n",
    "print(f\"{message}\")\n",
    "fl=19<15\n",
    "message=\"true and false test: \"+str(fl)\n",
    "print(f\"{message}\")\n",
    "\n",
    "def true_flase(value1, value2, value3):\n",
    "    print(f\"{value1} {value2} {value3}\")\n",
    "if False or False:\n",
    "    true_flase(0,\"OR\",0)\n",
    "elif False or True:\n",
    "    true_flase(0,\"OR\",1)\n",
    "elif True or False:\n",
    "    true_flase(1,\"OR\",0)\n",
    "elif True or True:\n",
    "    true_flase(1,\"OR\",1)\n",
    "else:\n",
    "    true_flase(\"Nothing\", \"Nothing\", \"Notning\")\n",
    "for n in range(0,100,3):\n",
    "    print(n,end=\" \")"
   ]
  },
  {
   "cell_type": "markdown",
   "metadata": {},
   "source": [
    "# File "
   ]
  },
  {
   "cell_type": "code",
   "execution_count": 5,
   "metadata": {},
   "outputs": [
    {
     "ename": "FileNotFoundError",
     "evalue": "[Errno 2] No such file or directory: 'fileName.txt'",
     "output_type": "error",
     "traceback": [
      "\u001b[1;31m---------------------------------------------------------------------------\u001b[0m",
      "\u001b[1;31mFileNotFoundError\u001b[0m                         Traceback (most recent call last)",
      "\u001b[1;32m<ipython-input-5-7535ddc8640b>\u001b[0m in \u001b[0;36m<module>\u001b[1;34m\u001b[0m\n\u001b[1;32m----> 1\u001b[1;33m \u001b[1;32mwith\u001b[0m \u001b[0mopen\u001b[0m\u001b[1;33m(\u001b[0m\u001b[1;34m\"fileName.txt\"\u001b[0m\u001b[1;33m,\u001b[0m \u001b[0mmode\u001b[0m\u001b[1;33m=\u001b[0m\u001b[1;34m\"r\"\u001b[0m\u001b[1;33m)\u001b[0m \u001b[1;32mas\u001b[0m \u001b[0msF\u001b[0m\u001b[1;33m:\u001b[0m\u001b[1;33m\u001b[0m\u001b[1;33m\u001b[0m\u001b[0m\n\u001b[0m\u001b[0;32m      2\u001b[0m     \u001b[1;32mfor\u001b[0m \u001b[0mline\u001b[0m \u001b[1;32min\u001b[0m \u001b[0msF\u001b[0m\u001b[1;33m.\u001b[0m\u001b[0mreadlines\u001b[0m\u001b[1;33m(\u001b[0m\u001b[1;33m)\u001b[0m\u001b[1;33m:\u001b[0m\u001b[1;33m\u001b[0m\u001b[1;33m\u001b[0m\u001b[0m\n\u001b[0;32m      3\u001b[0m         \u001b[0mwords\u001b[0m\u001b[1;33m=\u001b[0m\u001b[0mline\u001b[0m\u001b[1;33m.\u001b[0m\u001b[0msplit\u001b[0m\u001b[1;33m(\u001b[0m\u001b[1;34m\" \"\u001b[0m\u001b[1;33m)\u001b[0m\u001b[1;33m\u001b[0m\u001b[1;33m\u001b[0m\u001b[0m\n\u001b[0;32m      4\u001b[0m         \u001b[0mprint\u001b[0m\u001b[1;33m(\u001b[0m\u001b[0mwords\u001b[0m\u001b[1;33m)\u001b[0m\u001b[1;33m\u001b[0m\u001b[1;33m\u001b[0m\u001b[0m\n",
      "\u001b[1;31mFileNotFoundError\u001b[0m: [Errno 2] No such file or directory: 'fileName.txt'"
     ]
    }
   ],
   "source": [
    "with open(\"fileName.txt\", mode=\"r\") as sF:\n",
    "    for line in sF.readlines():\n",
    "        words=line.split(\" \")\n",
    "        print(words)"
   ]
  },
  {
   "cell_type": "code",
   "execution_count": null,
   "metadata": {},
   "outputs": [],
   "source": [
    "print(\"skkknhhs\")\n",
    "\n"
   ]
  },
  {
   "cell_type": "code",
   "execution_count": null,
   "metadata": {},
   "outputs": [],
   "source": []
  }
 ],
 "metadata": {
  "kernelspec": {
   "display_name": "Python 3",
   "language": "python",
   "name": "python3"
  },
  "language_info": {
   "codemirror_mode": {
    "name": "ipython",
    "version": 3
   },
   "file_extension": ".py",
   "mimetype": "text/x-python",
   "name": "python",
   "nbconvert_exporter": "python",
   "pygments_lexer": "ipython3",
   "version": "3.7.6"
  }
 },
 "nbformat": 4,
 "nbformat_minor": 4
}
