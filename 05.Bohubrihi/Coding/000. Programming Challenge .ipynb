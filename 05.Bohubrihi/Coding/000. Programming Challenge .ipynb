{
 "cells": [
  {
   "cell_type": "markdown",
   "metadata": {},
   "source": [
    "###  Data Structures And Algorithms Module 1: Programming Challenges 03. Programming Challenge "
   ]
  },
  {
   "cell_type": "code",
   "execution_count": 7,
   "metadata": {},
   "outputs": [
    {
     "name": "stdout",
     "output_type": "stream",
     "text": [
      "5\n",
      "5 4 3 2 1\n",
      "25\n"
     ]
    }
   ],
   "source": [
    "def max_pairwise_product_naive(a):\n",
    "    index1=0\n",
    "    for i in range(len(a)):\n",
    "        if index1<a[i]:\n",
    "            index1=a[i]\n",
    "            #print(index1)\n",
    "    index2=0\n",
    "    for i in range(len(a)):\n",
    "        if (index2<a[i]) and (index2<=index1):\n",
    "            index2=a[i]\n",
    "    return index1*index2\n",
    "\n",
    "n = int(input())\n",
    "x=input().split()\n",
    "array=[]\n",
    "for i in range(len(x)):\n",
    "    array.append(int(x[i]))\n",
    "print(max_pairwise_product_naive(array))"
   ]
  },
  {
   "cell_type": "code",
   "execution_count": null,
   "metadata": {},
   "outputs": [],
   "source": []
  }
 ],
 "metadata": {
  "kernelspec": {
   "display_name": "Python 3",
   "language": "python",
   "name": "python3"
  },
  "language_info": {
   "codemirror_mode": {
    "name": "ipython",
    "version": 3
   },
   "file_extension": ".py",
   "mimetype": "text/x-python",
   "name": "python",
   "nbconvert_exporter": "python",
   "pygments_lexer": "ipython3",
   "version": "3.7.3"
  }
 },
 "nbformat": 4,
 "nbformat_minor": 2
}
