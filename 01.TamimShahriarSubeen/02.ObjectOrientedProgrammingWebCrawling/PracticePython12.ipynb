{
 "cells": [
  {
   "cell_type": "markdown",
   "metadata": {},
   "source": [
    "# Request Module and File Create"
   ]
  },
  {
   "cell_type": "code",
   "execution_count": 1,
   "metadata": {},
   "outputs": [
    {
     "name": "stdout",
     "output_type": "stream",
     "text": [
      "<class 'requests.models.Response'>\n",
      "Response Variable:  ['__attrs__', '__bool__', '__class__', '__delattr__', '__dict__', '__dir__', '__doc__', '__enter__', '__eq__', '__exit__', '__format__', '__ge__', '__getattribute__', '__getstate__', '__gt__', '__hash__', '__init__', '__init_subclass__', '__iter__', '__le__', '__lt__', '__module__', '__ne__', '__new__', '__nonzero__', '__reduce__', '__reduce_ex__', '__repr__', '__setattr__', '__setstate__', '__sizeof__', '__str__', '__subclasshook__', '__weakref__', '_content', '_content_consumed', '_next', 'apparent_encoding', 'close', 'connection', 'content', 'cookies', 'elapsed', 'encoding', 'headers', 'history', 'is_permanent_redirect', 'is_redirect', 'iter_content', 'iter_lines', 'json', 'links', 'next', 'ok', 'raise_for_status', 'raw', 'reason', 'request', 'status_code', 'text', 'url']\n",
      "True\n",
      "200\n",
      "OK\n"
     ]
    }
   ],
   "source": [
    "#Need internet connection to run program\n",
    "import requests\n",
    "urlVar= \"https://fast.com/\"\n",
    "responseVar = requests.get(urlVar)\n",
    "#check data type\n",
    "print(type(responseVar))\n",
    "#see directory\n",
    "print(\"Response Variable: \",dir(responseVar))\n",
    "#see OK ?\n",
    "print(responseVar.ok)\n",
    "#see Status Code ?\n",
    "print(responseVar.status_code)\n",
    "#see Reason ?\n",
    "print(responseVar.reason)"
   ]
  },
  {
   "cell_type": "code",
   "execution_count": 2,
   "metadata": {},
   "outputs": [
    {
     "name": "stdout",
     "output_type": "stream",
     "text": [
      "True\n",
      "<!doctype html>\n",
      "<html>\n",
      "<head>\n",
      "    <title>Example Domain</title>\n",
      "\n",
      "    <meta charset=\"utf-8\" />\n",
      "    <meta http-equiv=\"Content-type\" content=\"text/html; charset=utf-8\" />\n",
      "    <meta name=\"viewport\" content=\"width=device-width, initial-scale=1\" />\n",
      "    <style type=\"text/css\">\n",
      "    body {\n",
      "        background-color: #f0f0f2;\n",
      "        margin: 0;\n",
      "        padding: 0;\n",
      "        font-family: -apple-system, system-ui, BlinkMacSystemFont, \"Segoe UI\", \"Open Sans\", \"Helvetica Neue\", Helvetica, Arial, sans-serif;\n",
      "        \n",
      "    }\n",
      "    div {\n",
      "        width: 600px;\n",
      "        margin: 5em auto;\n",
      "        padding: 2em;\n",
      "        background-color: #fdfdff;\n",
      "        border-radius: 0.5em;\n",
      "        box-shadow: 2px 3px 7px 2px rgba(0,0,0,0.02);\n",
      "    }\n",
      "    a:link, a:visited {\n",
      "        color: #38488f;\n",
      "        text-decoration: none;\n",
      "    }\n",
      "    @media (max-width: 700px) {\n",
      "        div {\n",
      "            margin: 0 auto;\n",
      "            width: auto;\n",
      "        }\n",
      "    }\n",
      "    </style>    \n",
      "</head>\n",
      "\n",
      "<body>\n",
      "<div>\n",
      "    <h1>Example Domain</h1>\n",
      "    <p>This domain is for use in illustrative examples in documents. You may use this\n",
      "    domain in literature without prior coordination or asking for permission.</p>\n",
      "    <p><a href=\"https://www.iana.org/domains/example\">More information...</a></p>\n",
      "</div>\n",
      "</body>\n",
      "</html>\n",
      "\n"
     ]
    }
   ],
   "source": [
    "res = requests.get(\"http://www.example.com/\")\n",
    "print(res.ok)\n",
    "print(res.text)"
   ]
  },
  {
   "cell_type": "code",
   "execution_count": 3,
   "metadata": {},
   "outputs": [
    {
     "name": "stdout",
     "output_type": "stream",
     "text": [
      "<class '_io.TextIOWrapper'>\n",
      "<_io.TextIOWrapper name='text.txt' mode='w' encoding='cp1252'>\n"
     ]
    }
   ],
   "source": [
    "#File Create and Write\n",
    "fp = open(\"text.txt\", \"w\")\n",
    "fp.write(\"This file was created using Python !\")\n",
    "fp.write(\"This file was created using Python222 !\")\n",
    "fp.close()\n",
    "\n",
    "print(type(fp))\n",
    "print(fp)"
   ]
  },
  {
   "cell_type": "code",
   "execution_count": 4,
   "metadata": {},
   "outputs": [
    {
     "name": "stdout",
     "output_type": "stream",
     "text": [
      "without fp2.close \n",
      "<_io.TextIOWrapper name='text2.txt' mode='w' encoding='cp1252'>\n"
     ]
    }
   ],
   "source": [
    "#OPEN FILE ANOTHER STYLE, এইখানে, close() লিখা লাগবে না  । \n",
    "with open(\"text2.txt\", \"w\") as fp2:\n",
    "    fp2.write(\"Hello Python\")\n",
    "print(\"without fp2.close \")\n",
    "\n",
    "print(fp2)"
   ]
  },
  {
   "cell_type": "code",
   "execution_count": 5,
   "metadata": {},
   "outputs": [],
   "source": [
    "import requests\n",
    "url1= \"https://dimikcomputing.com/\"\n",
    "response1=requests.get(url1)\n",
    "with open(\"dimik.html\", \"w\", encoding=response1.encoding) as fp3:\n",
    "    fp3.write(response1.text)\n"
   ]
  },
  {
   "cell_type": "code",
   "execution_count": 6,
   "metadata": {},
   "outputs": [
    {
     "name": "stdout",
     "output_type": "stream",
     "text": [
      "C:\\Users\\Kabir\\Documents\\GitHub\\PythonLearning\\01.TamimShahriarSubeen\\02.ObjectOrientedProgrammingWebCrawling\\dimikfind.html\n"
     ]
    },
    {
     "data": {
      "text/plain": [
       "True"
      ]
     },
     "execution_count": 6,
     "metadata": {},
     "output_type": "execute_result"
    }
   ],
   "source": [
    "import requests\n",
    "import os\n",
    "import webbrowser as wb\n",
    "url2= \"https://dimikcomputing.com/\"\n",
    "response2=requests.get(url1)\n",
    "with open(\"dimikfind.html\", \"w\", encoding=response1.encoding) as fp3:\n",
    "    fp3.write(response2.text)\n",
    "filePath= os.path.realpath(\"dimikfind.html\")\n",
    "print(filePath)\n",
    "wb.open(\"file://\"+filePath)"
   ]
  },
  {
   "cell_type": "markdown",
   "metadata": {},
   "source": [
    "### Download picture from internet"
   ]
  },
  {
   "cell_type": "code",
   "execution_count": 7,
   "metadata": {},
   "outputs": [],
   "source": [
    "import requests\n",
    "img_url01= \"https://wallpapercave.com/wp/wp6154835.jpg\"\n",
    "r01=requests.get(img_url01)\n",
    "\n",
    "with open(\"pybook1.jpg\", \"wb\") as fp4: #here we write \"wb\" not \"w\"\n",
    "    fp4.write(r01.content) #here we write \"content\" not \"text\"\n",
    "\n",
    "# ALTERNATIVE\n",
    "#open terminal and type     \"python  downloader.py  https://wallpapercave.com/wp/wp6154835.jpg  pybook1.jpg\""
   ]
  },
  {
   "cell_type": "markdown",
   "metadata": {},
   "source": [
    "### Download PDF "
   ]
  },
  {
   "cell_type": "code",
   "execution_count": 8,
   "metadata": {},
   "outputs": [
    {
     "name": "stdout",
     "output_type": "stream",
     "text": [
      "﻿<html>\n",
      "<head>\n",
      "<title>Welcome to Computer Programming Book Download Page</title>\n",
      "</head>\n",
      "<body>\n",
      "<form name=\"cpbook\" action=\"process.php\" method=\"post\">\n",
      "Name: <input type=\"text\" name=\"name\"><br />\n",
      "Email: <input type=\"text\" name=\"email\"><br />\n",
      "Country: <input type=\"text\" name=\"country\"><br />\n",
      "<input type=\"submit\" name=\"submit\" value=\"Download Now\">\n",
      "</form>\n",
      "</body>\n",
      "</html>\n"
     ]
    }
   ],
   "source": [
    "import requests\n",
    "res = requests.get(\"http://subeen.com/download/\")\n",
    "print(res.text)"
   ]
  },
  {
   "cell_type": "code",
   "execution_count": 9,
   "metadata": {},
   "outputs": [
    {
     "name": "stdout",
     "output_type": "stream",
     "text": [
      "Book Download Complete\n"
     ]
    }
   ],
   "source": [
    "import requests\n",
    "import sys\n",
    "baseUrl = \"http://subeen.com/download/\"\n",
    "\n",
    "info_dt = {\"name\": \"VungVang\", \"email\": \"something@gmail.com\", \"country\": \"Bangladesh\"}\n",
    "\n",
    "url01 = baseUrl+\"process.php\"\n",
    "\n",
    "response01 =  requests.post(url01, data=info_dt)\n",
    "\n",
    "if response01.ok is False:\n",
    "    sys.exit(\"Error in file downloading\")\n",
    "\n",
    "with open(\"cpbookPdf.pdf\", \"wb\") as fpdf:\n",
    "    fpdf.write(response01.content)\n",
    "\n",
    "    print(\"Book Download Complete\")"
   ]
  }
 ],
 "metadata": {
  "kernelspec": {
   "display_name": "Python 3",
   "language": "python",
   "name": "python3"
  },
  "language_info": {
   "codemirror_mode": {
    "name": "ipython",
    "version": 3
   },
   "file_extension": ".py",
   "mimetype": "text/x-python",
   "name": "python",
   "nbconvert_exporter": "python",
   "pygments_lexer": "ipython3",
   "version": "3.8.3"
  }
 },
 "nbformat": 4,
 "nbformat_minor": 4
}
