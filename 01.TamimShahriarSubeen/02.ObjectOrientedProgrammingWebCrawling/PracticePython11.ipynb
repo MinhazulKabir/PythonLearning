{
 "cells": [
  {
   "cell_type": "markdown",
   "metadata": {},
   "source": [
    "# Chapter 02 Module & Package\n",
    "\n",
    "### Standard Library"
   ]
  },
  {
   "cell_type": "code",
   "execution_count": 1,
   "metadata": {},
   "outputs": [
    {
     "name": "stdout",
     "output_type": "stream",
     "text": [
      "['ArithmeticError', 'AssertionError', 'AttributeError', 'BaseException', 'BlockingIOError', 'BrokenPipeError', 'BufferError', 'BytesWarning', 'ChildProcessError', 'ConnectionAbortedError', 'ConnectionError', 'ConnectionRefusedError', 'ConnectionResetError', 'DeprecationWarning', 'EOFError', 'Ellipsis', 'EnvironmentError', 'Exception', 'False', 'FileExistsError', 'FileNotFoundError', 'FloatingPointError', 'FutureWarning', 'GeneratorExit', 'IOError', 'ImportError', 'ImportWarning', 'IndentationError', 'IndexError', 'InterruptedError', 'IsADirectoryError', 'KeyError', 'KeyboardInterrupt', 'LookupError', 'MemoryError', 'ModuleNotFoundError', 'NameError', 'None', 'NotADirectoryError', 'NotImplemented', 'NotImplementedError', 'OSError', 'OverflowError', 'PendingDeprecationWarning', 'PermissionError', 'ProcessLookupError', 'RecursionError', 'ReferenceError', 'ResourceWarning', 'RuntimeError', 'RuntimeWarning', 'StopAsyncIteration', 'StopIteration', 'SyntaxError', 'SyntaxWarning', 'SystemError', 'SystemExit', 'TabError', 'TimeoutError', 'True', 'TypeError', 'UnboundLocalError', 'UnicodeDecodeError', 'UnicodeEncodeError', 'UnicodeError', 'UnicodeTranslateError', 'UnicodeWarning', 'UserWarning', 'ValueError', 'Warning', 'WindowsError', 'ZeroDivisionError', '__IPYTHON__', '__build_class__', '__debug__', '__doc__', '__import__', '__loader__', '__name__', '__package__', '__spec__', 'abs', 'all', 'any', 'ascii', 'bin', 'bool', 'breakpoint', 'bytearray', 'bytes', 'callable', 'chr', 'classmethod', 'compile', 'complex', 'copyright', 'credits', 'delattr', 'dict', 'dir', 'display', 'divmod', 'enumerate', 'eval', 'exec', 'filter', 'float', 'format', 'frozenset', 'get_ipython', 'getattr', 'globals', 'hasattr', 'hash', 'help', 'hex', 'id', 'input', 'int', 'isinstance', 'issubclass', 'iter', 'len', 'license', 'list', 'locals', 'map', 'max', 'memoryview', 'min', 'next', 'object', 'oct', 'open', 'ord', 'pow', 'print', 'property', 'range', 'repr', 'reversed', 'round', 'set', 'setattr', 'slice', 'sorted', 'staticmethod', 'str', 'sum', 'super', 'tuple', 'type', 'vars', 'zip']\n"
     ]
    }
   ],
   "source": [
    "#see built in Library\n",
    "import builtins\n",
    "print(dir(builtins))"
   ]
  },
  {
   "cell_type": "code",
   "execution_count": 2,
   "metadata": {},
   "outputs": [
    {
     "name": "stdout",
     "output_type": "stream",
     "text": [
      "math.pi  3.141592653589793\n",
      "math.pow   343.0\n",
      "math.sqrt  4.898979485566356\n",
      "math.floor  4\n",
      "math.ceiling  5\n",
      "Today  2020-12-06\n",
      "Today details  2020-12-06 00:34:39.048438\n",
      "Today details  2020-12-06 00:34:39.048935\n"
     ]
    },
    {
     "data": {
      "text/plain": [
       "True"
      ]
     },
     "execution_count": 2,
     "metadata": {},
     "output_type": "execute_result"
    }
   ],
   "source": [
    "#Math Library\n",
    "import math\n",
    "print(\"math.pi \",math.pi)\n",
    "print(\"math.pow  \",math.pow(7,3))\n",
    "print(\"math.sqrt \",math.sqrt(24))\n",
    "print(\"math.floor \",math.floor(4.89))\n",
    "print(\"math.ceiling \",math.ceil(4.89))\n",
    "\n",
    "#datetime Module\n",
    "import datetime\n",
    "t=datetime.date.today()\n",
    "print(\"Today \", t)\n",
    "t=datetime.datetime.today()\n",
    "print(\"Today details \", t)\n",
    "from datetime import datetime\n",
    "t=datetime.today()\n",
    "print(\"Today details \", t)\n",
    "\n",
    "#webbrowser\n",
    "import webbrowser\n",
    "x=\"https://www.facebook.com/\"\n",
    "webbrowser.open(x) ## https://www.facebook.com/ Open করবে । \n",
    "#AliaSing\n",
    "import webbrowser as wb\n",
    "x=\"https://www.facebook.com/\"\n",
    "wb.open(x) ## https://www.facebook.com/ Open করবে । "
   ]
  },
  {
   "cell_type": "markdown",
   "metadata": {},
   "source": [
    "### Create New Module"
   ]
  },
  {
   "cell_type": "code",
   "execution_count": 3,
   "metadata": {},
   "outputs": [
    {
     "name": "stdout",
     "output_type": "stream",
     "text": [
      "1\n",
      "1\n",
      "2\n",
      "3\n",
      "5\n",
      "8\n",
      "13\n",
      "21\n",
      "34\n",
      "55\n"
     ]
    }
   ],
   "source": [
    "#create New module\n",
    "import newM\n",
    "#variable=fileName.functionName(parameter)\n",
    "\n",
    "#n=newM.find_fib(10)\n",
    "for x in range(1,11):\n",
    "    n=newM.find_fib(x)\n",
    "    print(n)"
   ]
  },
  {
   "cell_type": "code",
   "execution_count": 4,
   "metadata": {},
   "outputs": [
    {
     "name": "stdout",
     "output_type": "stream",
     "text": [
      "My name is __main__\n"
     ]
    },
    {
     "data": {
      "text/plain": [
       "['C:\\\\Users\\\\Minhazul Kabir\\\\Documents\\\\GitKraken\\\\PythonLearning\\\\01.TamimShahriarSubeen\\\\02.ObjectOrientedProgrammingWebCrawling',\n",
       " 'C:\\\\Users\\\\Minhazul Kabir\\\\anaconda3\\\\python38.zip',\n",
       " 'C:\\\\Users\\\\Minhazul Kabir\\\\anaconda3\\\\DLLs',\n",
       " 'C:\\\\Users\\\\Minhazul Kabir\\\\anaconda3\\\\lib',\n",
       " 'C:\\\\Users\\\\Minhazul Kabir\\\\anaconda3',\n",
       " '',\n",
       " 'C:\\\\Users\\\\Minhazul Kabir\\\\anaconda3\\\\lib\\\\site-packages',\n",
       " 'C:\\\\Users\\\\Minhazul Kabir\\\\anaconda3\\\\lib\\\\site-packages\\\\win32',\n",
       " 'C:\\\\Users\\\\Minhazul Kabir\\\\anaconda3\\\\lib\\\\site-packages\\\\win32\\\\lib',\n",
       " 'C:\\\\Users\\\\Minhazul Kabir\\\\anaconda3\\\\lib\\\\site-packages\\\\Pythonwin',\n",
       " 'C:\\\\Users\\\\Minhazul Kabir\\\\anaconda3\\\\lib\\\\site-packages\\\\IPython\\\\extensions',\n",
       " 'C:\\\\Users\\\\Minhazul Kabir\\\\.ipython']"
      ]
     },
     "execution_count": 4,
     "metadata": {},
     "output_type": "execute_result"
    }
   ],
   "source": [
    "print(\"My name is\",__name__)\n",
    "\n",
    "#see Current Working Directory (cwd)\n",
    "import sys\n",
    "sys.path"
   ]
  },
  {
   "cell_type": "markdown",
   "metadata": {},
   "source": [
    "# Object & Class"
   ]
  },
  {
   "cell_type": "code",
   "execution_count": 5,
   "metadata": {},
   "outputs": [
    {
     "name": "stdout",
     "output_type": "stream",
     "text": [
      "<class 'turtle.Turtle'>\n",
      "<class 'list'>\n",
      "['__add__', '__class__', '__contains__', '__delattr__', '__delitem__', '__dir__', '__doc__', '__eq__', '__format__', '__ge__', '__getattribute__', '__getitem__', '__gt__', '__hash__', '__iadd__', '__imul__', '__init__', '__init_subclass__', '__iter__', '__le__', '__len__', '__lt__', '__mul__', '__ne__', '__new__', '__reduce__', '__reduce_ex__', '__repr__', '__reversed__', '__rmul__', '__setattr__', '__setitem__', '__sizeof__', '__str__', '__subclasshook__', 'append', 'clear', 'copy', 'count', 'extend', 'index', 'insert', 'pop', 'remove', 'reverse', 'sort']\n"
     ]
    }
   ],
   "source": [
    "import turtle\n",
    "tom = turtle.Turtle()\n",
    "print(type(tom)) #check Turtle is a Class\n",
    "\n",
    "#LIST এর built in Function\n",
    "list01=[7,27,'M']\n",
    "print(type(list01))\n",
    "print(dir(list01))"
   ]
  },
  {
   "cell_type": "code",
   "execution_count": 6,
   "metadata": {},
   "outputs": [
    {
     "name": "stdout",
     "output_type": "stream",
     "text": [
      "Name of the car: Premio\n",
      "COlor: White\n",
      "Starting the Engine\n",
      "Name of the car: GORUR GARI\n",
      "color: Black\n",
      "Starting the Engine\n",
      "See the directory of car:\t ['__class__', '__delattr__', '__dict__', '__dir__', '__doc__', '__eq__', '__format__', '__ge__', '__getattribute__', '__gt__', '__hash__', '__init__', '__init_subclass__', '__le__', '__lt__', '__module__', '__ne__', '__new__', '__reduce__', '__reduce_ex__', '__repr__', '__setattr__', '__sizeof__', '__str__', '__subclasshook__', '__weakref__', 'color', 'name', 'start']\n"
     ]
    }
   ],
   "source": [
    "#Class with Attribute\n",
    "class Car:\n",
    "    name=\"Premio\"\n",
    "    color=\"White\"\n",
    "    def start():\n",
    "        print(\"Starting the Engine\")\n",
    "\n",
    "\n",
    "print(\"Name of the car:\", Car.name)\n",
    "print(\"COlor:\", Car.color)\n",
    "\n",
    "Car.start()\n",
    "\n",
    "\n",
    "\n",
    "\n",
    "#Class without Attribute\n",
    "class Car:\n",
    "    name=\"\"\n",
    "    color=\"\"\n",
    "    def start():\n",
    "        print(\"Starting the Engine\")\n",
    "\n",
    "Car.name=\"GORUR GARI\"\n",
    "Car.color=\"Black\"\n",
    "print(\"Name of the car:\", Car.name)\n",
    "print(\"color:\", Car.color)\n",
    "\n",
    "Car.start()\n",
    "\n",
    "print(\"See the directory of car:\\t\", dir(Car))"
   ]
  },
  {
   "cell_type": "code",
   "execution_count": 7,
   "metadata": {},
   "outputs": [
    {
     "name": "stdout",
     "output_type": "stream",
     "text": [
      "GORUR GARI\n",
      "Black\n"
     ]
    },
    {
     "ename": "TypeError",
     "evalue": "start() takes 0 positional arguments but 1 was given",
     "output_type": "error",
     "traceback": [
      "\u001b[1;31m---------------------------------------------------------------------------\u001b[0m",
      "\u001b[1;31mTypeError\u001b[0m                                 Traceback (most recent call last)",
      "\u001b[1;32m<ipython-input-7-36fb698a1452>\u001b[0m in \u001b[0;36m<module>\u001b[1;34m\u001b[0m\n\u001b[0;32m     12\u001b[0m \u001b[0mprint\u001b[0m\u001b[1;33m(\u001b[0m\u001b[0mmy_car\u001b[0m\u001b[1;33m.\u001b[0m\u001b[0mcolor\u001b[0m\u001b[1;33m)\u001b[0m\u001b[1;33m\u001b[0m\u001b[1;33m\u001b[0m\u001b[0m\n\u001b[0;32m     13\u001b[0m \u001b[1;33m\u001b[0m\u001b[0m\n\u001b[1;32m---> 14\u001b[1;33m \u001b[0mmy_car\u001b[0m\u001b[1;33m.\u001b[0m\u001b[0mstart\u001b[0m\u001b[1;33m(\u001b[0m\u001b[1;33m)\u001b[0m\u001b[1;33m\u001b[0m\u001b[1;33m\u001b[0m\u001b[0m\n\u001b[0m",
      "\u001b[1;31mTypeError\u001b[0m: start() takes 0 positional arguments but 1 was given"
     ]
    }
   ],
   "source": [
    "#কেনো self/zeKonoKichu parameter দিতে হয় method এর মধ্যে ?\n",
    "class Car:\n",
    "    name=\"\"\n",
    "    color=\"\"\n",
    "    def start():\n",
    "        print(\"Starting the Engine\")\n",
    "\n",
    "my_car=Car()\n",
    "my_car.name=\"GORUR GARI\"\n",
    "my_car.color=\"Black\"\n",
    "print(my_car.name)\n",
    "print(my_car.color)\n",
    "\n",
    "my_car.start()"
   ]
  },
  {
   "cell_type": "code",
   "execution_count": 8,
   "metadata": {},
   "outputs": [
    {
     "name": "stdout",
     "output_type": "stream",
     "text": [
      "GORUR GARI\n",
      "Black\n",
      "Starting the Engine\n"
     ]
    }
   ],
   "source": [
    "class Car:\n",
    "    name=\"\"\n",
    "    color=\"\"\n",
    "    def start(self): #self নাম ছাড়া দিলেও হয় / নু্নতম ০১টা দিতে হবে । \n",
    "        print(\"Starting the Engine\")\n",
    "\n",
    "my_car=Car()\n",
    "my_car.name=\"GORUR GARI\"\n",
    "my_car.color=\"Black\"\n",
    "print(my_car.name)\n",
    "print(my_car.color)\n",
    "\n",
    "my_car.start()"
   ]
  },
  {
   "cell_type": "code",
   "execution_count": 9,
   "metadata": {},
   "outputs": [
    {
     "name": "stdout",
     "output_type": "stream",
     "text": [
      "Vera\n",
      "White\n",
      "Starting the Engine\n",
      "VeraS\n",
      "WhiteS\n",
      "Starting the Engine\n"
     ]
    }
   ],
   "source": [
    "#class with Constructor \n",
    "class Car:\n",
    "    name=\"\"\n",
    "    color=\"\"\n",
    "    def __init__(self, n,c):\n",
    "        self.name=n\n",
    "        self.color=c\n",
    "    def start(self):\n",
    "        print(\"Starting the Engine\")\n",
    "\n",
    "my_car=Car(\"Vera\", \"White\")\n",
    "\n",
    "print(my_car.name)\n",
    "print(my_car.color)\n",
    "\n",
    "my_car.start()\n",
    "\n",
    "\n",
    "# Same Output দেয় \n",
    "class Car:\n",
    "    def __init__(self, n, c):\n",
    "        self.name=n\n",
    "        self.color=c\n",
    "    def start(self):\n",
    "        print(\"Starting the Engine\")\n",
    "\n",
    "my_car=Car(\"VeraS\", \"WhiteS\")\n",
    "\n",
    "print(my_car.name)\n",
    "print(my_car.color)\n",
    "\n",
    "my_car.start()"
   ]
  },
  {
   "cell_type": "code",
   "execution_count": 10,
   "metadata": {},
   "outputs": [
    {
     "name": "stdout",
     "output_type": "stream",
     "text": [
      "Inner method :  VeraS\n",
      "Inner method :  WhiteS\n",
      "Starting the Engine\n",
      "Inner method :  Goat\n",
      "Inner method :  Gray\n",
      "Starting the Engine\n",
      "Inner method :  HHH\n",
      "Inner method :  YYY\n",
      "Starting the Engine\n",
      "2020\n"
     ]
    }
   ],
   "source": [
    "#creat multiple Object\n",
    "class Car:\n",
    "    def __init__(self, n,c):\n",
    "        self.name=n\n",
    "        self.color=c\n",
    "    def start(self):\n",
    "        print(\"Inner method : \", my_car.name)\n",
    "        print(\"Inner method : \", my_car.color)\n",
    "        print(\"Starting the Engine\")\n",
    "\n",
    "my_car=Car(\"VeraS\", \"WhiteS\")\n",
    "Car.start(my_car)\n",
    "\n",
    "my_car=Car(\"Goat\", \"Gray\")\n",
    "my_car.start()\n",
    "\n",
    "my_car=Car(\"HHH\", \"YYY\")\n",
    "my_car.start()\n",
    "my_car.year=2020\n",
    "print(my_car.year)"
   ]
  }
 ],
 "metadata": {
  "kernelspec": {
   "display_name": "Python 3",
   "language": "python",
   "name": "python3"
  },
  "language_info": {
   "codemirror_mode": {
    "name": "ipython",
    "version": 3
   },
   "file_extension": ".py",
   "mimetype": "text/x-python",
   "name": "python",
   "nbconvert_exporter": "python",
   "pygments_lexer": "ipython3",
   "version": "3.8.3"
  }
 },
 "nbformat": 4,
 "nbformat_minor": 4
}
