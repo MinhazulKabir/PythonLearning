{
 "cells": [
  {
   "cell_type": "markdown",
   "metadata": {},
   "source": [
    "# Data Type Check"
   ]
  },
  {
   "cell_type": "code",
   "execution_count": 1,
   "metadata": {},
   "outputs": [
    {
     "name": "stdout",
     "output_type": "stream",
     "text": [
      "<class 'int'>\n",
      "<class 'float'>\n",
      "<class 'str'>\n"
     ]
    }
   ],
   "source": [
    "variable_a=10\n",
    "print(type(variable_a))\n",
    "variable_a=99.99\n",
    "print(type(variable_a))\n",
    "variable_a=\"Minhazul Kabir\"\n",
    "print(type(variable_a))"
   ]
  },
  {
   "cell_type": "code",
   "execution_count": 2,
   "metadata": {},
   "outputs": [
    {
     "name": "stdout",
     "output_type": "stream",
     "text": [
      "1 1.2 Hello VagFol and VagShes 3 1\n"
     ]
    }
   ],
   "source": [
    "a=1\n",
    "b=1.2\n",
    "c=\"Hello\"\n",
    "print(a,b,c, \"VagFol and VagShes\",10//3,10%3)"
   ]
  },
  {
   "cell_type": "markdown",
   "metadata": {},
   "source": [
    "# Input"
   ]
  },
  {
   "cell_type": "code",
   "execution_count": 3,
   "metadata": {},
   "outputs": [
    {
     "name": "stdout",
     "output_type": "stream",
     "text": [
      "Enter a number100\n",
      "Enter a number200\n",
      "Num1 + Num2 = 300\n"
     ]
    }
   ],
   "source": [
    "num1=input(\"Enter a number\")\n",
    "num2=input(\"Enter a number\")\n",
    "num1=int(num1)\n",
    "num2=int(num2)\n",
    "print(\"Num1 + Num2 =\",num1+num2)"
   ]
  },
  {
   "cell_type": "code",
   "execution_count": 4,
   "metadata": {},
   "outputs": [
    {
     "name": "stdout",
     "output_type": "stream",
     "text": [
      "Enter your name?Minhazul Kabir\n",
      "Enter a Number110409\n",
      "Your Name is  Minhazul Kabir . You are Good Person.\n",
      "Your roll:  110409\n"
     ]
    }
   ],
   "source": [
    "#Convert input type at first time\n",
    "name=input(\"Enter your name?\")\n",
    "roll=int(input(\"Enter a Number\"))\n",
    "print(\"Your Name is \", name, \". You are Good Person.\")\n",
    "print(\"Your roll: \", roll)"
   ]
  },
  {
   "cell_type": "code",
   "execution_count": 5,
   "metadata": {},
   "outputs": [
    {
     "name": "stdout",
     "output_type": "stream",
     "text": [
      "False True True True False False\n"
     ]
    }
   ],
   "source": [
    "#Boolean\n",
    "print(2==3, 2!=3, 2<=3, 2<3, 2>3, 2>=3,)"
   ]
  },
  {
   "cell_type": "code",
   "execution_count": 6,
   "metadata": {},
   "outputs": [
    {
     "name": "stdout",
     "output_type": "stream",
     "text": [
      "True False False True\n"
     ]
    }
   ],
   "source": [
    "#and or \n",
    "print(True and True, False and True, False or False, True or False)"
   ]
  },
  {
   "cell_type": "markdown",
   "metadata": {},
   "source": [
    "# List / Python all type Array"
   ]
  },
  {
   "cell_type": "code",
   "execution_count": 7,
   "metadata": {},
   "outputs": [
    {
     "name": "stdout",
     "output_type": "stream",
     "text": [
      "first index 1\n",
      "Full List [1, 2, 3, 4, 5, 6, 7, 8, 9, 10]\n",
      "Length of List = 10\n",
      "<class 'list'>\n",
      "1 in number_list= True\n",
      "10 not in number_list= False\n"
     ]
    }
   ],
   "source": [
    "number_list=[1,2,3,4,5,6,7,8,9,10]\n",
    "print(\"first index\", number_list[0])\n",
    "print(\"Full List\",number_list)\n",
    "print(\"Length of List =\",len(number_list))\n",
    "print(type(number_list))\n",
    "#Existence check in list\n",
    "print(\"1 in number_list=\",1 in number_list)\n",
    "print(\"10 not in number_list=\",10 not in number_list)"
   ]
  },
  {
   "cell_type": "code",
   "execution_count": 8,
   "metadata": {},
   "outputs": [
    {
     "name": "stdout",
     "output_type": "stream",
     "text": [
      "Name of a country India\n",
      "FOUND India in ['Afghanistan', 'Bangladesh', 'Bhutan', 'India', 'Maldives', 'Nepal', 'Pakistan', 'Sri Lanka']\n",
      "Program Terminated\n"
     ]
    }
   ],
   "source": [
    "#A LIST\n",
    "saarc=[\"Afghanistan\", \"Bangladesh\", \"Bhutan\", \"India\", \"Maldives\", \"Nepal\", \"Pakistan\", \"Sri Lanka\"]\n",
    "country=input(\"Name of a country \")\n",
    "# 'in' keyword is a loop\n",
    "if country in saarc:\n",
    "    print(f\"FOUND {country} in {saarc}\")\n",
    "else:\n",
    "    print(f\"{country} not found.\")\n",
    "print(\"Program Terminated\")"
   ]
  },
  {
   "cell_type": "markdown",
   "metadata": {},
   "source": [
    "### Leap Year"
   ]
  },
  {
   "cell_type": "code",
   "execution_count": 9,
   "metadata": {},
   "outputs": [
    {
     "name": "stdout",
     "output_type": "stream",
     "text": [
      "NOT LEAP YEAR\n"
     ]
    }
   ],
   "source": [
    "#First\n",
    "year=300\n",
    "if year%4!=0:\n",
    "    print(\"NOT LEAP YEAR\")\n",
    "else:\n",
    "    if year%100==0:\n",
    "        if year%400==0:\n",
    "            print(\"LEAP YEAR\")\n",
    "        else:\n",
    "            print(\"NOT LEAP YEAR\")\n",
    "    else:\n",
    "        print(\"LEAP YEAR\")"
   ]
  },
  {
   "cell_type": "code",
   "execution_count": 10,
   "metadata": {},
   "outputs": [
    {
     "name": "stdout",
     "output_type": "stream",
     "text": [
      "NOT LEAP YEAR\n"
     ]
    }
   ],
   "source": [
    "#Second\n",
    "if year%400==0:\n",
    "    print(\"LEAP YEAR\")\n",
    "elif year%100==0:\n",
    "    print(\"NOT LEAP YEAR\")\n",
    "elif year%4==0:\n",
    "    print(\"LEAP YEAR\")\n",
    "else:\n",
    "    print(\"NOT LEAP YEAR\")"
   ]
  },
  {
   "cell_type": "code",
   "execution_count": 11,
   "metadata": {},
   "outputs": [
    {
     "name": "stdout",
     "output_type": "stream",
     "text": [
      "LEAP YEAR\n"
     ]
    }
   ],
   "source": [
    "#Third\n",
    "year=400\n",
    "if year%100!=0 and year%4==0:\n",
    "    print(\"LEAP YEAR\")\n",
    "elif year%100==0 and year%400==0:\n",
    "    print(\"LEAP YEAR\")\n",
    "else:\n",
    "    print(\"NOT LEAP YEAR\")"
   ]
  }
 ],
 "metadata": {
  "kernelspec": {
   "display_name": "Python 3",
   "language": "python",
   "name": "python3"
  },
  "language_info": {
   "codemirror_mode": {
    "name": "ipython",
    "version": 3
   },
   "file_extension": ".py",
   "mimetype": "text/x-python",
   "name": "python",
   "nbconvert_exporter": "python",
   "pygments_lexer": "ipython3",
   "version": "3.7.6"
  }
 },
 "nbformat": 4,
 "nbformat_minor": 4
}
