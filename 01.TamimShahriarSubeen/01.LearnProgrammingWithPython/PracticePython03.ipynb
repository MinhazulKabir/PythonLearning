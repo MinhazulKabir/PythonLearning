{
 "cells": [
  {
   "cell_type": "markdown",
   "metadata": {},
   "source": [
    "# Chapter 08: Working with String"
   ]
  },
  {
   "cell_type": "code",
   "execution_count": 1,
   "metadata": {},
   "outputs": [
    {
     "name": "stdout",
     "output_type": "stream",
     "text": [
      "14\n",
      "0\n",
      "0\n",
      "Minhazul Kabir's\n",
      "Minhazul Kabir's\n"
     ]
    }
   ],
   "source": [
    "string1=\"Minhazul Kabir\"\n",
    "stringrLen=len(string1)\n",
    "print(stringrLen)\n",
    "\n",
    "string1=\"\"\n",
    "stringrLen=len(string1)\n",
    "print(stringrLen)\n",
    "\n",
    "string1=''\n",
    "stringrLen=len(string1)\n",
    "print(stringrLen)\n",
    "\n",
    "string1=\"Minhazul Kabir's\"\n",
    "print(string1)\n",
    "\n",
    "string1='Minhazul Kabir\\'s'\n",
    "print(string1)"
   ]
  },
  {
   "cell_type": "code",
   "execution_count": 2,
   "metadata": {},
   "outputs": [
    {
     "name": "stdout",
     "output_type": "stream",
     "text": [
      "B a n g l a d e s h\n"
     ]
    }
   ],
   "source": [
    "#charecter array/list is STRING\n",
    "country=\"Bangladesh\"\n",
    "print(country[0],country[1],country[2],country[3],country[4],country[5],country[6],country[7],country[8],country[9])"
   ]
  },
  {
   "cell_type": "code",
   "execution_count": 3,
   "metadata": {},
   "outputs": [
    {
     "name": "stdout",
     "output_type": "stream",
     "text": [
      "B a n g l a d e s h "
     ]
    }
   ],
   "source": [
    "#Using For Loop\n",
    "country = \"Bangladesh\"\n",
    "for c in country:\n",
    "    print(f\"{c}\", end=\" \")"
   ]
  },
  {
   "cell_type": "code",
   "execution_count": 4,
   "metadata": {},
   "outputs": [
    {
     "name": "stdout",
     "output_type": "stream",
     "text": [
      "['B', 'a', 'n', 'g', 'l', 'a', 'd', 'e', 's', 'h']\n",
      "['B', 'A', 'n', 'g', 'l', 'a', 'd', 'e', 's', 'h']\n"
     ]
    },
    {
     "ename": "TypeError",
     "evalue": "'str' object does not support item assignment",
     "output_type": "error",
     "traceback": [
      "\u001b[1;31m---------------------------------------------------------------------------\u001b[0m",
      "\u001b[1;31mTypeError\u001b[0m                                 Traceback (most recent call last)",
      "\u001b[1;32m<ipython-input-4-bccefc42c2e9>\u001b[0m in \u001b[0;36m<module>\u001b[1;34m\u001b[0m\n\u001b[0;32m      6\u001b[0m \u001b[1;33m\u001b[0m\u001b[0m\n\u001b[0;32m      7\u001b[0m \u001b[0mstring2\u001b[0m\u001b[1;33m=\u001b[0m\u001b[1;34m\"Bangladesh\"\u001b[0m\u001b[1;33m\u001b[0m\u001b[1;33m\u001b[0m\u001b[0m\n\u001b[1;32m----> 8\u001b[1;33m \u001b[0mstring2\u001b[0m\u001b[1;33m[\u001b[0m\u001b[1;36m1\u001b[0m\u001b[1;33m]\u001b[0m\u001b[1;33m=\u001b[0m\u001b[1;34m'A'\u001b[0m\u001b[1;33m\u001b[0m\u001b[1;33m\u001b[0m\u001b[0m\n\u001b[0m\u001b[0;32m      9\u001b[0m \u001b[0mprint\u001b[0m\u001b[1;33m(\u001b[0m\u001b[0mstring2\u001b[0m\u001b[1;33m)\u001b[0m\u001b[1;33m\u001b[0m\u001b[1;33m\u001b[0m\u001b[0m\n",
      "\u001b[1;31mTypeError\u001b[0m: 'str' object does not support item assignment"
     ]
    }
   ],
   "source": [
    "#লিস্টের মান পরিবর্তন করা যায়, স্টিং এর মান পরিবর্তন করা যায় না । \n",
    "list1=['B', 'a', 'n', 'g', 'l', 'a', 'd', 'e', 's', 'h']\n",
    "print(list1)\n",
    "list1[1]='A'\n",
    "print(list1)\n",
    "\n",
    "string2=\"Bangladesh\"\n",
    "string2[1]='A'\n",
    "print(string2)"
   ]
  },
  {
   "cell_type": "code",
   "execution_count": 5,
   "metadata": {},
   "outputs": [
    {
     "name": "stdout",
     "output_type": "stream",
     "text": [
      "BanglaDesh\n",
      "501027\n"
     ]
    }
   ],
   "source": [
    "#স্টিং যোগ করা যায় \n",
    "string3=\"Bangla\"+\"Desh\"\n",
    "print(string3)\n",
    "\n",
    "string3=\"50\"+\"1027\"\n",
    "print(string3)"
   ]
  },
  {
   "cell_type": "code",
   "execution_count": 6,
   "metadata": {},
   "outputs": [
    {
     "name": "stdout",
     "output_type": "stream",
     "text": [
      "5\n",
      "13\n",
      "-1\n"
     ]
    }
   ],
   "source": [
    "#স্টিং এ কোনো কিছু খোজা এবং তার ইনডেক্স প্রকাশ করা । না পাওয়া গেলে -১ দেখাবে । \n",
    "string4=\"Minhazul Kabir\"\n",
    "print(string4.find(\"zul\"))\n",
    "print(string4.find(\"r\"))\n",
    "print(string4.find(\"R\"))"
   ]
  },
  {
   "cell_type": "markdown",
   "metadata": {},
   "source": [
    "# String Operation without changing Main String\n",
    "#### মূল স্ট্রিং এ পরিবর্তন না করে কাটাকুটি "
   ]
  },
  {
   "cell_type": "code",
   "execution_count": 7,
   "metadata": {},
   "outputs": [
    {
     "name": "stdout",
     "output_type": "stream",
     "text": [
      "Replace function:  Bangla Desh\n",
      "Main String: Bangla VaSha\n"
     ]
    }
   ],
   "source": [
    "#replace ফাংশন মূল  String এ পরিবর্তন করে না । আলাদা ভ্যারিয়েবলে মান সংরক্ষণ করে পরিবর্তিত Sting পাওয়া যাবে । \n",
    "string5 = \"Bangla VaSha\"\n",
    "print(\"Replace function: \",string5.replace(\"VaSha\", \"Desh\"))\n",
    "print(f\"Main String: {string5}\")"
   ]
  },
  {
   "cell_type": "code",
   "execution_count": 8,
   "metadata": {},
   "outputs": [
    {
     "name": "stdout",
     "output_type": "stream",
     "text": [
      "Main String:  Minhazul Kabir  .\n",
      "Minhazul Kabir \n",
      " Minhazul Kabir\n",
      "Minhazul Kabir\n",
      "Main String:  Minhazul Kabir  .\n"
     ]
    }
   ],
   "source": [
    "#String থেকে space সরাতে চাইলে \n",
    "string6= \" Minhazul Kabir \"\n",
    "print(\"Main String:\",string6, \".\")\n",
    "#left remove\n",
    "print(string6.lstrip())\n",
    "#right remove\n",
    "print(string6.rstrip())\n",
    "#right remove\n",
    "print(string6.strip())\n",
    "print(\"Main String:\",string6, \".\")\n",
    "\n",
    "#মূল  String এ পরিবর্তন করে না । আলাদা ভ্যারিয়েবলে মান সংরক্ষণ করে পরিবর্তিত Sting পাওয়া যাবে । "
   ]
  },
  {
   "cell_type": "code",
   "execution_count": 9,
   "metadata": {},
   "outputs": [
    {
     "name": "stdout",
     "output_type": "stream",
     "text": [
      "Main String: Minhazul kabir. Sagar .\n",
      "MINHAZUL KABIR. SAGAR\n",
      "minhazul kabir. sagar\n",
      "Minhazul kabir. sagar\n",
      "Main String: Minhazul kabir. Sagar .\n"
     ]
    }
   ],
   "source": [
    "string7=\"Minhazul kabir. Sagar\"\n",
    "print(\"Main String:\",string7, \".\")\n",
    "print(string7.upper())\n",
    "print(string7.lower())\n",
    "#Only 1st character\n",
    "print(string7.capitalize())\n",
    "print(\"Main String:\",string7, \".\")\n",
    "#মূল  String এ পরিবর্তন করে না । আলাদা ভ্যারিয়েবলে মান সংরক্ষণ করে পরিবর্তিত Sting পাওয়া যাবে । "
   ]
  },
  {
   "cell_type": "code",
   "execution_count": 10,
   "metadata": {},
   "outputs": [
    {
     "name": "stdout",
     "output_type": "stream",
     "text": [
      "['I', 'am', 'Minhazul', 'Kabir.', 'Ex', 'Student', 'of', 'SUST', 'cse.']\n",
      "I\tam\tMinhazul\tKabir.\tEx\tStudent\tof\tSUST\tcse.\t"
     ]
    }
   ],
   "source": [
    "#স্পেসকে কাজে লাগিয়ে কর্তন\n",
    "string8=\"I am Minhazul Kabir. Ex Student of SUST cse.\"\n",
    "print(string8.split())\n",
    "words = string8.split()\n",
    "for i in words:\n",
    "    print(f\"{i}\",end=\"\\t\")\n",
    "\n",
    "#মূল  String এ পরিবর্তন করে না । আলাদা ভ্যারিয়েবলে মান সংরক্ষণ করে পরিবর্তিত Sting পাওয়া যাবে । "
   ]
  },
  {
   "cell_type": "markdown",
   "metadata": {},
   "source": [
    "### Sub-String"
   ]
  },
  {
   "cell_type": "code",
   "execution_count": 11,
   "metadata": {},
   "outputs": [
    {
     "name": "stdout",
     "output_type": "stream",
     "text": [
      "4\n",
      "1\n"
     ]
    }
   ],
   "source": [
    "#Count a word in string\n",
    "string9= \"Molla Mohammod Minhazul Kabir Mollah\"\n",
    "print(string9.count(\"M\"))\n",
    "print(string9.count(\"Mollah\"))"
   ]
  },
  {
   "cell_type": "code",
   "execution_count": 12,
   "metadata": {},
   "outputs": [
    {
     "name": "stdout",
     "output_type": "stream",
     "text": [
      "True\n",
      "False\n",
      "True\n",
      "True\n"
     ]
    },
    {
     "data": {
      "text/plain": [
       "'\\nif string10.startswith(\"Mr\"):\\n    print(\"Hello Sir\")\\nelif string10.startswith(\"Mo\"):\\n    print(\"Mohammod\")\\n'"
      ]
     },
     "execution_count": 12,
     "metadata": {},
     "output_type": "execute_result"
    }
   ],
   "source": [
    "#Start & End এ চেক করা । true & false\n",
    "string10 = \"Mohammod Minhazul Kabir\"\n",
    "print(string10.startswith(\"Mo\"))\n",
    "print(string10.startswith(\"mo\"))\n",
    "print(string10.endswith(\"Kabir\"))\n",
    "print(string10.endswith(\"r\"))\n",
    "'''\n",
    "if string10.startswith(\"Mr\"):\n",
    "    print(\"Hello Sir\")\n",
    "elif string10.startswith(\"Mo\"):\n",
    "    print(\"Mohammod\")\n",
    "'''"
   ]
  },
  {
   "cell_type": "code",
   "execution_count": 13,
   "metadata": {},
   "outputs": [
    {
     "name": "stdout",
     "output_type": "stream",
     "text": [
      "a 2\n",
      "b 1\n",
      "c 1\n",
      "d 1\n",
      "e 2\n",
      "f 1\n",
      "g 1\n",
      "h 1\n",
      "i 1\n",
      "j 1\n",
      "k 1\n",
      "l 1\n",
      "m 1\n",
      "n 1\n",
      "o 4\n",
      "p 1\n",
      "q 1\n",
      "r 2\n",
      "s 1\n",
      "t 1\n",
      "u 2\n",
      "v 1\n",
      "w 1\n",
      "x 1\n",
      "y 1\n",
      "z 1\n"
     ]
    }
   ],
   "source": [
    "'''\n",
    "Testing :)\n",
    "'''\n",
    "string11= \"a quick brown fox jumps over the lazy dog\"\n",
    "for c in \"abcdefghijklmnopqrstuvwxyz\":\n",
    "    print(c,string11.count(c))"
   ]
  },
  {
   "cell_type": "code",
   "execution_count": 14,
   "metadata": {},
   "outputs": [
    {
     "name": "stdout",
     "output_type": "stream",
     "text": [
      "Enter a line: Minhazul Kabir: 110409, SUST cse4\n",
      "MKSUST\n",
      "inhazulabircse\n",
      "1104094\n",
      " : ,  \n"
     ]
    }
   ],
   "source": [
    "#EXAMINATION :p \n",
    "stringTest1=input(\"Enter a line: \")\n",
    "tempU=\"\"\n",
    "tempL=\"\"\n",
    "tempN=\"\"\n",
    "tempO=\"\"\n",
    "for c in stringTest1:\n",
    "    if c in \"ABCDEFGHIJKLMNOPQRSTUVWXYZ\":\n",
    "        tempU+=c\n",
    "    elif c in \"abcdefghijklmnopqrstuvwxyz\":\n",
    "        tempL+=c\n",
    "    elif c in \"0123456789\":\n",
    "        tempN+=c\n",
    "    else:\n",
    "        tempO+=c\n",
    "print(tempU)\n",
    "print(tempL)\n",
    "print(tempN)\n",
    "print(tempO)"
   ]
  },
  {
   "cell_type": "code",
   "execution_count": 15,
   "metadata": {},
   "outputs": [
    {
     "data": {
      "text/plain": [
       "'\\nstringTest2=input(\"Enter a line: \")\\ntempS=\"\"\\ni=0\\nwhile i<len(stringTest2):\\n    if i%2==0:\\n        tempS+=stringTest2.replace(stringTest2[i], stringTest2[i+1])\\n    else:\\n        tempS+=stringTest2[i]\\n    i+=1\\nprint(tempS)\\n'"
      ]
     },
     "execution_count": 15,
     "metadata": {},
     "output_type": "execute_result"
    }
   ],
   "source": [
    "'''\n",
    "stringTest2=input(\"Enter a line: \")\n",
    "tempS=\"\"\n",
    "i=0\n",
    "while i<len(stringTest2):\n",
    "    if i%2==0:\n",
    "        tempS+=stringTest2.replace(stringTest2[i], stringTest2[i+1])\n",
    "    else:\n",
    "        tempS+=stringTest2[i]\n",
    "    i+=1\n",
    "print(tempS)\n",
    "'''"
   ]
  }
 ],
 "metadata": {
  "kernelspec": {
   "display_name": "Python 3",
   "language": "python",
   "name": "python3"
  },
  "language_info": {
   "codemirror_mode": {
    "name": "ipython",
    "version": 3
   },
   "file_extension": ".py",
   "mimetype": "text/x-python",
   "name": "python",
   "nbconvert_exporter": "python",
   "pygments_lexer": "ipython3",
   "version": "3.7.6"
  }
 },
 "nbformat": 4,
 "nbformat_minor": 4
}
