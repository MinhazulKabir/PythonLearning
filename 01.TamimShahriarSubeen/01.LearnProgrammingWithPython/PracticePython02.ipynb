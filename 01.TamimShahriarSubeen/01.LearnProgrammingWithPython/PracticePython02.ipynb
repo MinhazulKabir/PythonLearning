{
 "cells": [
  {
   "cell_type": "markdown",
   "metadata": {},
   "source": [
    "# Range and For Loop"
   ]
  },
  {
   "cell_type": "code",
   "execution_count": 1,
   "metadata": {},
   "outputs": [
    {
     "name": "stdout",
     "output_type": "stream",
     "text": [
      "Value is 0 .\n",
      "Value is 1 .\n",
      "Value is 2 .\n",
      "Value is 3 .\n",
      "Value is 4 .\n",
      "Value is 5 .\n",
      "Value is 6 .\n",
      "Value is 7 .\n",
      "Value is 8 .\n",
      "Value is 9 .\n",
      "4\t9\t14\t19\t24\t29\t34\t39\t44\t49\t54\t59\t64\t69\t74\t79\t84\t89\t94\t99\t"
     ]
    }
   ],
   "source": [
    "#Use 'in' keyword as itteration\n",
    "for a in range(10):\n",
    "    print(f\"Value is {a} .\")\n",
    "for a in range(4,101,5):\n",
    "    print(f\"{a}\",end=\"\\t\")"
   ]
  },
  {
   "cell_type": "code",
   "execution_count": 2,
   "metadata": {},
   "outputs": [
    {
     "name": "stdout",
     "output_type": "stream",
     "text": [
      "0\n",
      "5\n",
      "15\n",
      "30\n",
      "50\n",
      "75\n",
      "105\n",
      "140\n",
      "180\n",
      "225\n",
      "Sum is 225\n"
     ]
    }
   ],
   "source": [
    "sum=0\n",
    "for i in range(50):\n",
    "    if i%5==0:\n",
    "        sum+=i\n",
    "        print(sum)\n",
    "print(\"Sum is\",sum)"
   ]
  },
  {
   "cell_type": "markdown",
   "metadata": {},
   "source": [
    "# List"
   ]
  },
  {
   "cell_type": "code",
   "execution_count": 3,
   "metadata": {},
   "outputs": [
    {
     "name": "stdout",
     "output_type": "stream",
     "text": [
      "Bangladesh is a member of SAARC\n",
      "Afganbistan is a member of SAARC\n",
      "Bhutan is a member of SAARC\n",
      "Nepal is a member of SAARC\n",
      "India is a member of SAARC\n",
      "Pakistan is a member of SAARC\n",
      "Sri Lanka is a member of SAARC\n"
     ]
    }
   ],
   "source": [
    "#A String List\n",
    "saarc= [\"Bangladesh\", \"Afganbistan\", \"Bhutan\", \"Nepal\", \"India\", \"Pakistan\", \"Sri Lanka\"]\n",
    "#for loop using 'in' itteration\n",
    "for country in saarc:\n",
    "    print(f\"{country} is a member of SAARC\")"
   ]
  },
  {
   "cell_type": "markdown",
   "metadata": {},
   "source": [
    "### Number Value List"
   ]
  },
  {
   "cell_type": "code",
   "execution_count": 4,
   "metadata": {},
   "outputs": [
    {
     "name": "stdout",
     "output_type": "stream",
     "text": [
      "[0, 1, 2, 3, 4, 5, 6, 7, 8, 9, 10, 11, 12, 13, 14, 15, 16, 17, 18, 19]\n",
      "[4, 9, 14, 19, 24, 29, 34, 39, 44, 49, 54, 59, 64, 69, 74, 79, 84, 89, 94, 99]\n"
     ]
    }
   ],
   "source": [
    "#Use 'list' and inner 'range' keyword. start from ZERO\n",
    "numberList=list(range(20))\n",
    "print(numberList)\n",
    "#Number list with CUSTOME START, INCREMENT/DECREMENT\n",
    "numberListC=list(range(4,100,5))\n",
    "print(numberListC)"
   ]
  },
  {
   "cell_type": "markdown",
   "metadata": {},
   "source": [
    "# WHILE LOOP (traditional structure)"
   ]
  },
  {
   "cell_type": "code",
   "execution_count": 5,
   "metadata": {},
   "outputs": [
    {
     "name": "stdout",
     "output_type": "stream",
     "text": [
      "Enter a Number10\n",
      "10x1=10\n",
      "10x2=20\n",
      "10x3=30\n",
      "10x4=40\n",
      "10x5=50\n",
      "10x6=60\n",
      "10x7=70\n",
      "10x8=80\n",
      "10x9=90\n",
      "10x10=100\n"
     ]
    }
   ],
   "source": [
    "#Multiplication Table\n",
    "n=int(input(\"Enter a Number\"))\n",
    "m=1\n",
    "while m<=10:\n",
    "    print(f\"{n}x{m}={n*m}\")\n",
    "    m+=1"
   ]
  },
  {
   "cell_type": "markdown",
   "metadata": {},
   "source": [
    "#    Turtle"
   ]
  },
  {
   "cell_type": "code",
   "execution_count": 6,
   "metadata": {},
   "outputs": [
    {
     "data": {
      "text/plain": [
       "'\\nimport turtle as t\\ncolor=[\\'red\\',\\'purple\\',\\'blue\\', \\'green\\', \\'yellow\\', \\'orange\\']\\nt.bgcolor(\"black\")\\n#t.speed(5)\\nfor x in range(360):\\n    t.pencolor(color[x%6])\\n    t.width(x/100+1)\\n    t.forward(x)\\n    t.left(59)\\n    \\nt.exitonclick()\\n'"
      ]
     },
     "execution_count": 6,
     "metadata": {},
     "output_type": "execute_result"
    }
   ],
   "source": [
    "'''\n",
    "import turtle as t\n",
    "color=['red','purple','blue', 'green', 'yellow', 'orange']\n",
    "t.bgcolor(\"black\")\n",
    "#t.speed(5)\n",
    "for x in range(360):\n",
    "    t.pencolor(color[x%6])\n",
    "    t.width(x/100+1)\n",
    "    t.forward(x)\n",
    "    t.left(59)\n",
    "    \n",
    "t.exitonclick()\n",
    "'''"
   ]
  },
  {
   "cell_type": "markdown",
   "metadata": {},
   "source": [
    "### break and Continue"
   ]
  },
  {
   "cell_type": "code",
   "execution_count": 7,
   "metadata": {},
   "outputs": [
    {
     "name": "stdout",
     "output_type": "stream",
     "text": [
      "Enter a Number (0 to exit)3\n",
      " value 3 and Square value 9\n",
      "Enter a Number (0 to exit)4\n",
      " value 4 and Square value 16\n",
      "Enter a Number (0 to exit)1\n",
      " value 1 and Square value 1\n",
      "Enter a Number (0 to exit)-1\n",
      "You enter -1. We only Accept Positive Number\n",
      "Enter a Number (0 to exit)0\n"
     ]
    }
   ],
   "source": [
    "while True:\n",
    "    n=int(input(\"Enter a Number (0 to exit)\"))\n",
    "    if n<0:\n",
    "        print(f\"You enter {n}. We only Accept Positive Number\")\n",
    "        continue\n",
    "    if n==0:\n",
    "        break\n",
    "    print(f\" value {n} and Square value {n*n}\")"
   ]
  },
  {
   "cell_type": "markdown",
   "metadata": {},
   "source": [
    "# Function"
   ]
  },
  {
   "cell_type": "code",
   "execution_count": 8,
   "metadata": {},
   "outputs": [
    {
     "name": "stdout",
     "output_type": "stream",
     "text": [
      "Sum 10\n",
      "Sum 9\n",
      "Sum 6\n",
      "Minus -8\n",
      "Minus -7\n"
     ]
    }
   ],
   "source": [
    "def sumVar(x,y=1,z=4):\n",
    "    return x+y+z\n",
    "def minVar(x,y,z=4):\n",
    "    return x-y-z\n",
    "a=1\n",
    "b=4\n",
    "c=5\n",
    "print(\"Sum\",sumVar(a,b,c))\n",
    "print(\"Sum\",sumVar(a,b))\n",
    "print(\"Sum\",sumVar(a))\n",
    "print(\"Minus\",minVar(a,b,c))\n",
    "print(\"Minus\",minVar(a,b))"
   ]
  },
  {
   "cell_type": "code",
   "execution_count": 9,
   "metadata": {},
   "outputs": [
    {
     "name": "stdout",
     "output_type": "stream",
     "text": [
      "55\n"
     ]
    }
   ],
   "source": [
    "def listPass(num):\n",
    "    sums=0\n",
    "    for i in num:\n",
    "        sums=sums+i\n",
    "    return sums\n",
    "result=listPass([1,2,3,4,5,6,7,8,9,10]) #List Passing\n",
    "print(result)"
   ]
  }
 ],
 "metadata": {
  "kernelspec": {
   "display_name": "Python 3",
   "language": "python",
   "name": "python3"
  },
  "language_info": {
   "codemirror_mode": {
    "name": "ipython",
    "version": 3
   },
   "file_extension": ".py",
   "mimetype": "text/x-python",
   "name": "python",
   "nbconvert_exporter": "python",
   "pygments_lexer": "ipython3",
   "version": "3.7.6"
  }
 },
 "nbformat": 4,
 "nbformat_minor": 4
}
