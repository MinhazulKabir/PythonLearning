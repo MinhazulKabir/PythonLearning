{
 "cells": [
  {
   "cell_type": "markdown",
   "metadata": {},
   "source": [
    "# Chapter 09: Python's Different Data Structure"
   ]
  },
  {
   "cell_type": "markdown",
   "metadata": {},
   "source": [
    "# List (লিস্ট)               []"
   ]
  },
  {
   "cell_type": "markdown",
   "metadata": {},
   "source": [
    "#### List এ উপাদান যোগ করা "
   ]
  },
  {
   "cell_type": "code",
   "execution_count": 1,
   "metadata": {},
   "outputs": [
    {
     "name": "stdout",
     "output_type": "stream",
     "text": [
      "['Bangladesh', 'Afganbistan', 'Bhutan', 'Nepal', 'India', 'Pakistan', 'Sri Lanka']\n",
      "['Bangladesh', 'Afganbistan', 'Bhutan', 'Nepal', 'India', 'Pakistan', 'Sri Lanka', 'Extra']\n",
      "[0, 1, 2, 3, 4, 5, 6, 7, 8, 9]\n"
     ]
    }
   ],
   "source": [
    "#append() দিয়ে লিস্টের শেষে উপাদান যোগ করা যায় । \n",
    "saarc= [\"Bangladesh\", \"Afganbistan\", \"Bhutan\", \"Nepal\", \"India\", \"Pakistan\", \"Sri Lanka\"]\n",
    "print(saarc)\n",
    "saarc.append(\"Extra\")\n",
    "print(saarc)\n",
    "numberList0=[]\n",
    "for i in range(10):\n",
    "    numberList0.append(i)\n",
    "print(numberList0)\n",
    "#List এর অপারেশন মূল Listর উপাদান পরিবর্তন করে । কারণ List হচ্ছে mutable/ পরিবর্তন যোগ্য । "
   ]
  },
  {
   "cell_type": "code",
   "execution_count": 2,
   "metadata": {},
   "outputs": [
    {
     "name": "stdout",
     "output_type": "stream",
     "text": [
      "['Bangladesh', 'Afganbistan', 'Bhutan', 'Nepal', 'India', 'Pakistan', 'Sri Lanka']\n",
      "['First1', 'Bangladesh', 'Afganbistan', 'Bhutan', 'Nepal', 'India', 'Pakistan', 'Sri Lanka']\n",
      "['First1', 'Bangladesh', 'Afganbistan', 'Bhutan', 'FORTH4', 'Nepal', 'India', 'Pakistan', 'Sri Lanka']\n",
      "['First1', 'Bangladesh', 'Afganbistan', 'Bhutan', 'FORTH4', 'Nepal', 6, 'India', 'Pakistan', 'Sri Lanka']\n"
     ]
    }
   ],
   "source": [
    "#insert() দিয়ে লিস্টের যেকোনো অবস্থানে উপাদান যোগ করা যায় । \n",
    "saarc= [\"Bangladesh\", \"Afganbistan\", \"Bhutan\", \"Nepal\", \"India\", \"Pakistan\", \"Sri Lanka\"]\n",
    "print(saarc)\n",
    "saarc.insert(0,\"First1\")\n",
    "print(saarc)\n",
    "saarc.insert(4,\"FORTH4\")\n",
    "print(saarc)\n",
    "saarc.insert(6,6)\n",
    "print(saarc)\n",
    "#List এর অপারেশন মূল Listর উপাদান পরিবর্তন করে । কারণ List হচ্ছে mutable/পরিবর্তন যোগ্য । "
   ]
  },
  {
   "cell_type": "markdown",
   "metadata": {},
   "source": [
    "#### List এ উপাদান মোছা"
   ]
  },
  {
   "cell_type": "code",
   "execution_count": 3,
   "metadata": {},
   "outputs": [
    {
     "name": "stdout",
     "output_type": "stream",
     "text": [
      "['Bangladesh', 'Afganbistan', 'Bhutan', 'Nepal', 'India', 'Pakistan', 'Sri Lanka']\n",
      "['Bangladesh', 'Afganbistan', 'Nepal', 'India', 'Pakistan', 'Sri Lanka']\n"
     ]
    },
    {
     "ename": "ValueError",
     "evalue": "list.remove(x): x not in list",
     "output_type": "error",
     "traceback": [
      "\u001b[1;31m---------------------------------------------------------------------------\u001b[0m",
      "\u001b[1;31mValueError\u001b[0m                                Traceback (most recent call last)",
      "\u001b[1;32m<ipython-input-3-93339734be97>\u001b[0m in \u001b[0;36m<module>\u001b[1;34m\u001b[0m\n\u001b[0;32m      4\u001b[0m \u001b[0msaarc\u001b[0m\u001b[1;33m.\u001b[0m\u001b[0mremove\u001b[0m\u001b[1;33m(\u001b[0m\u001b[1;34m\"Bhutan\"\u001b[0m\u001b[1;33m)\u001b[0m\u001b[1;33m\u001b[0m\u001b[1;33m\u001b[0m\u001b[0m\n\u001b[0;32m      5\u001b[0m \u001b[0mprint\u001b[0m\u001b[1;33m(\u001b[0m\u001b[0msaarc\u001b[0m\u001b[1;33m)\u001b[0m\u001b[1;33m\u001b[0m\u001b[1;33m\u001b[0m\u001b[0m\n\u001b[1;32m----> 6\u001b[1;33m \u001b[0msaarc\u001b[0m\u001b[1;33m.\u001b[0m\u001b[0mremove\u001b[0m\u001b[1;33m(\u001b[0m\u001b[1;34m\"Japan\"\u001b[0m\u001b[1;33m)\u001b[0m \u001b[1;31m#element না থাকলে error মেসেজ দিবে\u001b[0m\u001b[1;33m\u001b[0m\u001b[1;33m\u001b[0m\u001b[0m\n\u001b[0m\u001b[0;32m      7\u001b[0m \u001b[0mprint\u001b[0m\u001b[1;33m(\u001b[0m\u001b[0msaarc\u001b[0m\u001b[1;33m)\u001b[0m\u001b[1;33m\u001b[0m\u001b[1;33m\u001b[0m\u001b[0m\n\u001b[0;32m      8\u001b[0m \u001b[1;33m\u001b[0m\u001b[0m\n",
      "\u001b[1;31mValueError\u001b[0m: list.remove(x): x not in list"
     ]
    }
   ],
   "source": [
    "#remove() দিয়ে লিস্টের নির্দিস্ট উপাদান মুছা যায় । \n",
    "saarc= [\"Bangladesh\", \"Afganbistan\", \"Bhutan\", \"Nepal\", \"India\", \"Pakistan\", \"Sri Lanka\"]\n",
    "print(saarc)\n",
    "saarc.remove(\"Bhutan\")\n",
    "print(saarc)\n",
    "saarc.remove(\"Japan\") #element না থাকলে error মেসেজ দিবে \n",
    "print(saarc)\n",
    "\n",
    "#List এর অপারেশন মূল Listর উপাদান পরিবর্তন করে । কারণ List হচ্ছে mutable/পরিবর্তন যোগ্য । "
   ]
  },
  {
   "cell_type": "code",
   "execution_count": 4,
   "metadata": {},
   "outputs": [
    {
     "name": "stdout",
     "output_type": "stream",
     "text": [
      "['Bangladesh', 'Afganbistan', 'Bhutan', 'Nepal', 'India', 'Pakistan', 'Sri Lanka']\n",
      "Sri Lanka\n",
      "['Bangladesh', 'Afganbistan', 'Bhutan', 'Nepal', 'India', 'Pakistan']\n",
      "Afganbistan\n",
      "['Bangladesh', 'Bhutan', 'Nepal', 'India', 'Pakistan']\n"
     ]
    }
   ],
   "source": [
    "#pop() দিয়ে লিস্টের শেষে উপাদান মুছা যায় । \n",
    "saarc= [\"Bangladesh\", \"Afganbistan\", \"Bhutan\", \"Nepal\", \"India\", \"Pakistan\", \"Sri Lanka\"]\n",
    "print(saarc)\n",
    "#Want to see the name of last element \n",
    "print(saarc.pop())\n",
    "print(saarc)\n",
    "#pop() দিয়ে নির্দিষ্ট উপাদান return করা যায় । \n",
    "print(saarc.pop(1))\n",
    "print(saarc)\n",
    "#List এর অপারেশন মূল Listর উপাদান পরিবর্তন করে । কারণ List হচ্ছে mutable/ পরিবর্তন যোগ্য । "
   ]
  },
  {
   "cell_type": "code",
   "execution_count": 5,
   "metadata": {},
   "outputs": [
    {
     "name": "stdout",
     "output_type": "stream",
     "text": [
      "['Bangladesh', 'Afganbistan', 'Bhutan', 'Nepal', 'India', 'Pakistan', 'Sri Lanka']\n",
      "['Bangladesh', 'Bhutan', 'Nepal', 'India', 'Pakistan', 'Sri Lanka']\n"
     ]
    },
    {
     "ename": "NameError",
     "evalue": "name 'saarc' is not defined",
     "output_type": "error",
     "traceback": [
      "\u001b[1;31m---------------------------------------------------------------------------\u001b[0m",
      "\u001b[1;31mNameError\u001b[0m                                 Traceback (most recent call last)",
      "\u001b[1;32m<ipython-input-5-7a19f03f0672>\u001b[0m in \u001b[0;36m<module>\u001b[1;34m\u001b[0m\n\u001b[0;32m      7\u001b[0m \u001b[1;31m#del() দিয়ে সম্পুর্ণ List মুছা যায় ।\u001b[0m\u001b[1;33m\u001b[0m\u001b[1;33m\u001b[0m\u001b[1;33m\u001b[0m\u001b[0m\n\u001b[0;32m      8\u001b[0m \u001b[1;32mdel\u001b[0m\u001b[1;33m(\u001b[0m\u001b[0msaarc\u001b[0m\u001b[1;33m)\u001b[0m\u001b[1;33m\u001b[0m\u001b[1;33m\u001b[0m\u001b[0m\n\u001b[1;32m----> 9\u001b[1;33m \u001b[0mprint\u001b[0m\u001b[1;33m(\u001b[0m\u001b[0msaarc\u001b[0m\u001b[1;33m)\u001b[0m\u001b[1;33m\u001b[0m\u001b[1;33m\u001b[0m\u001b[0m\n\u001b[0m\u001b[0;32m     10\u001b[0m \u001b[1;31m#List এর অপারেশন মূল Listর উপাদান পরিবর্তন করে । কারণ List হচ্ছে mutable/ পরিবর্তন যোগ্য ।\u001b[0m\u001b[1;33m\u001b[0m\u001b[1;33m\u001b[0m\u001b[1;33m\u001b[0m\u001b[0m\n",
      "\u001b[1;31mNameError\u001b[0m: name 'saarc' is not defined"
     ]
    }
   ],
   "source": [
    "#del() দিয়ে লিস্টের index ব্যবহার এর মাধ্যমে উপাদান মুছা যায় । \n",
    "saarc= [\"Bangladesh\", \"Afganbistan\", \"Bhutan\", \"Nepal\", \"India\", \"Pakistan\", \"Sri Lanka\"]\n",
    "print(saarc)\n",
    "#Want to see the name of last element \n",
    "del(saarc[1])\n",
    "print(saarc)\n",
    "#del() দিয়ে সম্পুর্ণ List মুছা যায় । \n",
    "del(saarc)\n",
    "print(saarc)\n",
    "#List এর অপারেশন মূল Listর উপাদান পরিবর্তন করে । কারণ List হচ্ছে mutable/ পরিবর্তন যোগ্য । "
   ]
  },
  {
   "cell_type": "markdown",
   "metadata": {},
   "source": [
    "#### List এর উপাদান ছোট/বড় অনুসারে সাজানো "
   ]
  },
  {
   "cell_type": "code",
   "execution_count": 6,
   "metadata": {},
   "outputs": [
    {
     "name": "stdout",
     "output_type": "stream",
     "text": [
      "['Bangladesh', 'Afganbistan', 'Bhutan', 'Nepal', 'India', 'Pakistan', 'Sri Lanka']\n",
      "['Afganbistan', 'Bangladesh', 'Bhutan', 'India', 'Nepal', 'Pakistan', 'Sri Lanka']\n",
      "[1, 2, 3, 4, 5, 5, 6, 7, 8, 9]\n"
     ]
    }
   ],
   "source": [
    "#sort() দিয়ে লিস্টের উপাদান সাজানো যায় ।\n",
    "saarc= [\"Bangladesh\", \"Afganbistan\", \"Bhutan\", \"Nepal\", \"India\", \"Pakistan\", \"Sri Lanka\"]\n",
    "print(saarc)\n",
    "saarc.sort()\n",
    "print(saarc)\n",
    "listNumber= [9,8,7,6,1,2,3,4,5,5]\n",
    "listNumber.sort()\n",
    "print(listNumber)\n",
    "#List এর অপারেশন মূল Listর উপাদান পরিবর্তন করে । কারণ List হচ্ছে mutable/ পরিবর্তন যোগ্য । "
   ]
  },
  {
   "cell_type": "code",
   "execution_count": 7,
   "metadata": {},
   "outputs": [
    {
     "name": "stdout",
     "output_type": "stream",
     "text": [
      "['Bangladesh', 'Afganbistan', 'Bhutan', 'Nepal', 'India', 'Pakistan', 'Sri Lanka']\n",
      "['Sri Lanka', 'Pakistan', 'India', 'Nepal', 'Bhutan', 'Afganbistan', 'Bangladesh']\n",
      "[5, 5, 4, 3, 2, 1, 6, 7, 8, 9]\n"
     ]
    }
   ],
   "source": [
    "#reverse() দিয়ে লিস্টের উপাদান উল্টাভাবে সাজানো যায় ।\n",
    "saarc= [\"Bangladesh\", \"Afganbistan\", \"Bhutan\", \"Nepal\", \"India\", \"Pakistan\", \"Sri Lanka\"]\n",
    "print(saarc)\n",
    "saarc.reverse()\n",
    "print(saarc)\n",
    "saarc= [9,8,7,6,1,2,3,4,5,5]\n",
    "saarc.reverse()\n",
    "print(saarc)\n",
    "#List এর অপারেশন মূল Listর উপাদান পরিবর্তন করে । কারণ List হচ্ছে mutable/পরিবর্তন যোগ্য । "
   ]
  },
  {
   "cell_type": "markdown",
   "metadata": {},
   "source": [
    "#### List এর অপারেশন"
   ]
  },
  {
   "cell_type": "code",
   "execution_count": 8,
   "metadata": {},
   "outputs": [
    {
     "name": "stdout",
     "output_type": "stream",
     "text": [
      "[1, 2, 3, 4, 5, 9, 8, 7, 6, 0]\n",
      "['M', 'i', 'n', 1, 2, 3, 4, 5, 9, 8, 7, 6, 0]\n"
     ]
    }
   ],
   "source": [
    "#list এর শেষে অন্য লিস্ট যুক্ত করা । extend() দিয়ে\n",
    "numberList1 = [1,2,3,4,5]\n",
    "numberList2 = [9,8,7,6,0]\n",
    "numberList3 = ['M','i','n']\n",
    "numberList1+=numberList2\n",
    "print(numberList1)\n",
    "numberList3.extend(numberList1)\n",
    "print(numberList3)"
   ]
  },
  {
   "cell_type": "code",
   "execution_count": 9,
   "metadata": {},
   "outputs": [
    {
     "name": "stdout",
     "output_type": "stream",
     "text": [
      "3\n",
      "1\n",
      "0\n"
     ]
    }
   ],
   "source": [
    "#count() দিয়ে লিস্টের উপাদান কতবার repeat আছে, তা জানা যায় । \n",
    "aList1=['a','e','i','o','u','a','i','a']\n",
    "print(aList1.count('a'))\n",
    "print(aList1.count('o'))\n",
    "print(aList1.count('k'))"
   ]
  },
  {
   "cell_type": "code",
   "execution_count": 10,
   "metadata": {},
   "outputs": [
    {
     "name": "stdout",
     "output_type": "stream",
     "text": [
      "[1, 2, 3, 4, 5, 1, 2, 3, 4, 5, 1, 2, 3, 4, 5]\n",
      "[27, 24, 21, 18, 0]\n",
      "['M', 'i', 'n', 9, 8, 7, 6, 0]\n"
     ]
    }
   ],
   "source": [
    "#list এর গুণ ও যোগ...        বিয়োগ ও ভাগ নেই । \n",
    "numberList1 = [1,2,3,4,5]\n",
    "numberList2 = [9,8,7,6,0]\n",
    "numberList3 = ['M','i','n']\n",
    "numberList1*=3 #Length will be increate 'n' times\n",
    "print(numberList1)\n",
    "#Multiply element of List\n",
    "numberList0=[]\n",
    "for i in numberList2:\n",
    "    numberList0.append(3*i)\n",
    "print(numberList0)\n",
    "\n",
    "numberList3+=numberList2\n",
    "print(numberList3)"
   ]
  },
  {
   "cell_type": "code",
   "execution_count": 11,
   "metadata": {},
   "outputs": [
    {
     "name": "stdout",
     "output_type": "stream",
     "text": [
      "['Bangladesh', 'Afganbistan', 'Bhutan', 'Nepal', 'India', 'Pakistan', 'Sri Lanka']\n",
      "BangladeshAfganbistanBhutanNepalIndiaPakistanSri Lanka\n",
      "Bangladesh-Afganbistan-Bhutan-Nepal-India-Pakistan-Sri Lanka\n",
      "Bangladesh+Afganbistan+Bhutan+Nepal+India+Pakistan+Sri Lanka\n"
     ]
    }
   ],
   "source": [
    "#List এর উপাদান/স্ট্রিং সমূহ একত্র করণ \n",
    "saarc= [\"Bangladesh\", \"Afganbistan\", \"Bhutan\", \"Nepal\", \"India\", \"Pakistan\", \"Sri Lanka\"]\n",
    "print(saarc)\n",
    "newList=\"\".join(saarc)\n",
    "print(newList)\n",
    "newList=\"-\".join(saarc)\n",
    "print(newList)\n",
    "newList=\"+\".join(saarc)\n",
    "print(newList)"
   ]
  },
  {
   "cell_type": "code",
   "execution_count": 12,
   "metadata": {},
   "outputs": [
    {
     "name": "stdout",
     "output_type": "stream",
     "text": [
      "[2, 4, 6, 8, 10, 12, 14, 16, 18, 20, 22, 24, 26, 28, 30]\n"
     ]
    }
   ],
   "source": [
    "#Even Number এর list\n",
    "blankList=[]\n",
    "for i in range(1,31):\n",
    "    if(i%2==0):\n",
    "        blankList.append(i)\n",
    "print(blankList)"
   ]
  },
  {
   "cell_type": "markdown",
   "metadata": {},
   "source": [
    "# Tuple টাপল mutable না ()"
   ]
  },
  {
   "cell_type": "markdown",
   "metadata": {},
   "source": [
    "#### Basic Concept"
   ]
  },
  {
   "cell_type": "code",
   "execution_count": 13,
   "metadata": {},
   "outputs": [
    {
     "name": "stdout",
     "output_type": "stream",
     "text": [
      "<class 'tuple'>\n",
      "<class 'tuple'>\n",
      "<class 'tuple'>\n",
      "('Minhazul', 'Kabir', 'Sagar', 7)\n"
     ]
    },
    {
     "ename": "NameError",
     "evalue": "name 'tupleN3' is not defined",
     "output_type": "error",
     "traceback": [
      "\u001b[1;31m---------------------------------------------------------------------------\u001b[0m",
      "\u001b[1;31mNameError\u001b[0m                                 Traceback (most recent call last)",
      "\u001b[1;32m<ipython-input-13-2a306f735800>\u001b[0m in \u001b[0;36m<module>\u001b[1;34m\u001b[0m\n\u001b[0;32m      6\u001b[0m \u001b[0mprint\u001b[0m\u001b[1;33m(\u001b[0m\u001b[0mtype\u001b[0m\u001b[1;33m(\u001b[0m\u001b[0mtupleN1\u001b[0m\u001b[1;33m)\u001b[0m\u001b[1;33m)\u001b[0m\u001b[1;33m\u001b[0m\u001b[1;33m\u001b[0m\u001b[0m\n\u001b[0;32m      7\u001b[0m \u001b[0mprint\u001b[0m\u001b[1;33m(\u001b[0m\u001b[0mtupleN1\u001b[0m\u001b[1;33m)\u001b[0m\u001b[1;33m\u001b[0m\u001b[1;33m\u001b[0m\u001b[0m\n\u001b[1;32m----> 8\u001b[1;33m \u001b[0mprint\u001b[0m\u001b[1;33m(\u001b[0m\u001b[0mtupleN3\u001b[0m\u001b[1;33m[\u001b[0m\u001b[1;36m1\u001b[0m\u001b[1;33m]\u001b[0m\u001b[1;33m)\u001b[0m\u001b[1;33m\u001b[0m\u001b[1;33m\u001b[0m\u001b[0m\n\u001b[0m\u001b[0;32m      9\u001b[0m \u001b[0mprint\u001b[0m\u001b[1;33m(\u001b[0m\u001b[0mtupleN3\u001b[0m\u001b[1;33m[\u001b[0m\u001b[1;36m4\u001b[0m\u001b[1;33m]\u001b[0m\u001b[1;33m)\u001b[0m\u001b[1;33m\u001b[0m\u001b[1;33m\u001b[0m\u001b[0m\n",
      "\u001b[1;31mNameError\u001b[0m: name 'tupleN3' is not defined"
     ]
    }
   ],
   "source": [
    "tupleN1=(1,2,3)\n",
    "print(type(tupleN1))\n",
    "tupleN1=1,2,3\n",
    "print(type(tupleN1))\n",
    "tupleN1=\"Minhazul\", \"Kabir\", \"Sagar\", 7\n",
    "print(type(tupleN1))\n",
    "print(tupleN1)\n",
    "print(tupleN3[1])\n",
    "print(tupleN3[4])"
   ]
  },
  {
   "cell_type": "code",
   "execution_count": 14,
   "metadata": {},
   "outputs": [
    {
     "name": "stdout",
     "output_type": "stream",
     "text": [
      "<class 'int'>\n",
      "<class 'tuple'>\n",
      "<class 'tuple'>\n"
     ]
    }
   ],
   "source": [
    "tupleN2=1\n",
    "print(type(tupleN2))\n",
    "tupleN2=1,\n",
    "print(type(tupleN2))\n",
    "tupleN2=()\n",
    "print(type(tupleN2))"
   ]
  },
  {
   "cell_type": "code",
   "execution_count": 15,
   "metadata": {},
   "outputs": [
    {
     "name": "stdout",
     "output_type": "stream",
     "text": [
      "10 20 30\n",
      "<class 'tuple'>\n"
     ]
    },
    {
     "ename": "TypeError",
     "evalue": "'tuple' object does not support item assignment",
     "output_type": "error",
     "traceback": [
      "\u001b[1;31m---------------------------------------------------------------------------\u001b[0m",
      "\u001b[1;31mTypeError\u001b[0m                                 Traceback (most recent call last)",
      "\u001b[1;32m<ipython-input-15-1343f42e3e2f>\u001b[0m in \u001b[0;36m<module>\u001b[1;34m\u001b[0m\n\u001b[0;32m      6\u001b[0m \u001b[1;33m\u001b[0m\u001b[0m\n\u001b[0;32m      7\u001b[0m \u001b[0mtupleN3\u001b[0m\u001b[1;33m=\u001b[0m\u001b[1;34m\"Minhazul\"\u001b[0m\u001b[1;33m,\u001b[0m \u001b[1;34m\"Kabir\"\u001b[0m\u001b[1;33m,\u001b[0m \u001b[1;34m\"Sagar\"\u001b[0m\u001b[1;33m,\u001b[0m \u001b[1;36m7\u001b[0m\u001b[1;33m\u001b[0m\u001b[1;33m\u001b[0m\u001b[0m\n\u001b[1;32m----> 8\u001b[1;33m \u001b[0mtupleN3\u001b[0m\u001b[1;33m[\u001b[0m\u001b[1;36m2\u001b[0m\u001b[1;33m]\u001b[0m\u001b[1;33m=\u001b[0m\u001b[1;36m8\u001b[0m\u001b[1;33m\u001b[0m\u001b[1;33m\u001b[0m\u001b[0m\n\u001b[0m\u001b[0;32m      9\u001b[0m \u001b[1;31m#tuple এর অপারেশন মূল tupleর উপাদান পরিবর্তন করে না । কারণ List হচ্ছে mutable/পরিবর্তন যোগ্য না  ।\u001b[0m\u001b[1;33m\u001b[0m\u001b[1;33m\u001b[0m\u001b[1;33m\u001b[0m\u001b[0m\n",
      "\u001b[1;31mTypeError\u001b[0m: 'tuple' object does not support item assignment"
     ]
    }
   ],
   "source": [
    "tupleN3=(10,20,30,40)\n",
    "a,b,c,d=tupleN3\n",
    "print(a,b,c)\n",
    "tempTuple=(a,d)\n",
    "print(type(tempTuple))\n",
    "\n",
    "tupleN3=\"Minhazul\", \"Kabir\", \"Sagar\", 7\n",
    "tupleN3[2]=8\n",
    "#tuple এর অপারেশন মূল tupleর উপাদান পরিবর্তন করে না । কারণ List হচ্ছে mutable/পরিবর্তন যোগ্য না  ।"
   ]
  },
  {
   "cell_type": "code",
   "execution_count": 16,
   "metadata": {},
   "outputs": [
    {
     "name": "stdout",
     "output_type": "stream",
     "text": [
      "Tuple type:\t<class 'int'>\n",
      "Tuple type:\t<class 'int'>\n",
      "Tuple type:\t<class 'str'>\n",
      "Tuple type:\t<class 'float'>\n",
      "Tuple type:\t<class 'list'>\n",
      "Tuple type:\t<class 'tuple'>\n",
      "List type: <class 'int'>\n",
      "List type: <class 'int'>\n",
      "List type: <class 'str'>\n",
      "List type: <class 'float'>\n",
      "List type: <class 'list'>\n",
      "List type: <class 'tuple'>\n"
     ]
    }
   ],
   "source": [
    "#টাপল/লিস্ট বিভিন্ন ধরণের জিনিস ধারণ করতে পারে । \n",
    "tupleDifferent=(1,2,'d',2.3,[\"minhazul\", 'kabir', \"List\"], (\"Minhazul\", \"Kabir\", \"Tuple\"))\n",
    "for i in tupleDifferent:\n",
    "    print(f\"Tuple type:\\t{type(i)}\")\n",
    "listDifferent=(1,2,'d',2.3,[\"minhazul\", 'kabir', \"List\"], (\"Minhazul\", \"Kabir\", \"Tuple\"))\n",
    "for i in listDifferent:\n",
    "    print(f\"List type: {type(i)}\")"
   ]
  },
  {
   "cell_type": "code",
   "execution_count": 17,
   "metadata": {},
   "outputs": [
    {
     "name": "stdout",
     "output_type": "stream",
     "text": [
      "[1, 2, 'd', 7.3, ['minhazul', 'kabir', 'List'], ('Minhazul', 'Kabir', 'Tuple')]\n",
      "2\n",
      "d\n",
      "7.3\n",
      "['minhazul', 'kabir', 'List']\n",
      "('Minhazul', 'Kabir', 'Tuple')\n",
      "kabir\n",
      "List\n",
      "minhazul\n"
     ]
    }
   ],
   "source": [
    "#Tuple কে লিস্টে রুপান্তরিত করা যায় । \n",
    "tupleDifferent=(1,2,'d',7.3,[\"minhazul\", 'kabir', \"List\"], (\"Minhazul\", \"Kabir\", \"Tuple\"))\n",
    "listT=list(tupleDifferent)\n",
    "print(listT)\n",
    "print(tupleDifferent[1])\n",
    "print(tupleDifferent[2])\n",
    "print(tupleDifferent[3])\n",
    "print(tupleDifferent[4])\n",
    "print(tupleDifferent[5])\n",
    "print(tupleDifferent[4][1])\n",
    "print(tupleDifferent[4][2])\n",
    "print(tupleDifferent[4][0])"
   ]
  },
  {
   "cell_type": "markdown",
   "metadata": {},
   "source": [
    "# SET {}\n",
    "\n",
    "#### SET এ কোনো উপাদান পুনরাবৃত্তি  হয় না "
   ]
  },
  {
   "cell_type": "code",
   "execution_count": 18,
   "metadata": {},
   "outputs": [
    {
     "name": "stdout",
     "output_type": "stream",
     "text": [
      "<class 'set'>\n",
      "{'Minhazul', 'Sagor', 'Kabir'}\n",
      "<class 'set'>\n"
     ]
    }
   ],
   "source": [
    "aSet=set()\n",
    "print(type(aSet))\n",
    "setN1= {\"Minhazul\", \"Kabir\", \"Sagor\"}\n",
    "print(setN1)\n",
    "print(type(setN1))"
   ]
  },
  {
   "cell_type": "code",
   "execution_count": 19,
   "metadata": {},
   "outputs": [
    {
     "name": "stdout",
     "output_type": "stream",
     "text": [
      "List: ['Kabir', 1, 2, 3, 4, 5, 5]\n",
      "Tuple: ('Kabir', 1, 2, 3, 4, 5, 5)\n",
      "<class 'set'> {1, 2, 3, 4, 5, 'Kabir'}\n",
      "<class 'set'> {1, 2, 3, 4, 5, 'Kabir'}\n"
     ]
    }
   ],
   "source": [
    "#Convert List/Tuple into SET\n",
    "listS=[\"Kabir\", 1,2,3,4,5,5]\n",
    "print(f\"List: {listS}\")\n",
    "tupleS=(\"Kabir\", 1,2,3,4,5,5)\n",
    "print(f\"Tuple: {tupleS}\")\n",
    "setC=set(listS)\n",
    "print(type(setC),setC)\n",
    "setC=set(tupleS)\n",
    "print(type(setC),setC)\n",
    "#SET এ কোনো উপাদান পুনরাবৃত্তি হয় না"
   ]
  },
  {
   "cell_type": "code",
   "execution_count": 20,
   "metadata": {},
   "outputs": [
    {
     "name": "stdout",
     "output_type": "stream",
     "text": [
      "{'u', 'K', 'z', 'i', 'h', ' ', 'b', 'r', 'l', 'a', 'M', 'n'}\n",
      "True\n",
      "False\n",
      "True\n",
      "True\n",
      "False\n",
      "False\n"
     ]
    }
   ],
   "source": [
    "#String to set\n",
    "strName=\"Minhazul Kabir\"\n",
    "setS=set(strName)\n",
    "print(setS)\n",
    "\n",
    "#Check Set Element\n",
    "print('M' in setS)\n",
    "print('m' in setS)\n",
    "print('i' in setS)\n",
    "print('n' in setS)\n",
    "print('H' in setS)\n",
    "print('d' in setS)"
   ]
  },
  {
   "cell_type": "code",
   "execution_count": 21,
   "metadata": {},
   "outputs": [
    {
     "name": "stdout",
     "output_type": "stream",
     "text": [
      "{2, 4}\n",
      "{1, 2, 3, 4, 5, 6, 8}\n",
      "{1, 3, 5, 6, 8}\n",
      "{1, 3, 5}\n",
      "{8, 6}\n"
     ]
    }
   ],
   "source": [
    "#নবম দশম শ্রেণীর সেটের অংক \n",
    "A={1,2,3,4,5}\n",
    "B={2,4,6,8}\n",
    "C=A&B # A n B\n",
    "print(C)\n",
    "C=A|B # A u B\n",
    "print(C)\n",
    "C=A^B # A u B - A n B\n",
    "print(C)\n",
    "C=A-B # A - B\n",
    "print(C)\n",
    "C=B-A # B-A\n",
    "print(C)"
   ]
  }
 ],
 "metadata": {
  "kernelspec": {
   "display_name": "Python 3",
   "language": "python",
   "name": "python3"
  },
  "language_info": {
   "codemirror_mode": {
    "name": "ipython",
    "version": 3
   },
   "file_extension": ".py",
   "mimetype": "text/x-python",
   "name": "python",
   "nbconvert_exporter": "python",
   "pygments_lexer": "ipython3",
   "version": "3.7.6"
  }
 },
 "nbformat": 4,
 "nbformat_minor": 4
}
