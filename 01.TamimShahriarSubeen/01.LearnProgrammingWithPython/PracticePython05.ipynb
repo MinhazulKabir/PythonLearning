{
 "cells": [
  {
   "cell_type": "markdown",
   "metadata": {},
   "source": [
    "# Chapter 09: Python's Different Data Structure\n",
    "\n",
    "# Dictonary {}\n",
    "#### Dictonary তে ডেটা থাকে জোড়ায় জোড়ায় । প্রথমটাকে key আর পরেরটাকে value বলে । "
   ]
  },
  {
   "cell_type": "code",
   "execution_count": 1,
   "metadata": {},
   "outputs": [
    {
     "name": "stdout",
     "output_type": "stream",
     "text": [
      "<class 'dict'>\n",
      "{1: 77, 5: 55, 2: 34, 8: 59, 3: 98, 4: 77}\n",
      "Key is 8 and value is 59\n",
      "<class 'dict'>\n",
      "54\n"
     ]
    }
   ],
   "source": [
    "#dictonary তে key এর মাধ্যমে মান পাওয়া যায় । \n",
    "marks={1:77, 5:55, 2:34, 8:59, 3:98, 4:77}\n",
    "print(type(marks))\n",
    "print(marks)\n",
    "print(f\"Key is {8} and value is {marks[8]}\")\n",
    "\n",
    "\n",
    "#key এর মান স্ট্রিং হতে পারে । \n",
    "marks={\"min\": 54, \"haz\":66, \"ul\":55}\n",
    "print(type(marks))\n",
    "print(marks[\"min\"])"
   ]
  },
  {
   "cell_type": "code",
   "execution_count": 2,
   "metadata": {},
   "outputs": [
    {
     "name": "stdout",
     "output_type": "stream",
     "text": [
      "{}\n",
      "<class 'dict'>\n",
      "{'Minhaz': 7, 8: 18, 5: 'roll 5', 'min': 'min'}\n",
      "roll 5\n",
      "7\n"
     ]
    },
    {
     "ename": "KeyError",
     "evalue": "'minh'",
     "output_type": "error",
     "traceback": [
      "\u001b[1;31m---------------------------------------------------------------------------\u001b[0m",
      "\u001b[1;31mKeyError\u001b[0m                                  Traceback (most recent call last)",
      "\u001b[1;32m<ipython-input-2-6bb8660e871f>\u001b[0m in \u001b[0;36m<module>\u001b[1;34m\u001b[0m\n\u001b[0;32m     12\u001b[0m \u001b[0mprint\u001b[0m\u001b[1;33m(\u001b[0m\u001b[0memptyDictonary\u001b[0m\u001b[1;33m[\u001b[0m\u001b[1;36m5\u001b[0m\u001b[1;33m]\u001b[0m\u001b[1;33m)\u001b[0m\u001b[1;33m\u001b[0m\u001b[1;33m\u001b[0m\u001b[0m\n\u001b[0;32m     13\u001b[0m \u001b[0mprint\u001b[0m\u001b[1;33m(\u001b[0m\u001b[0memptyDictonary\u001b[0m\u001b[1;33m[\u001b[0m\u001b[1;34m\"Minhaz\"\u001b[0m\u001b[1;33m]\u001b[0m\u001b[1;33m)\u001b[0m\u001b[1;33m\u001b[0m\u001b[1;33m\u001b[0m\u001b[0m\n\u001b[1;32m---> 14\u001b[1;33m \u001b[0mprint\u001b[0m\u001b[1;33m(\u001b[0m\u001b[0memptyDictonary\u001b[0m\u001b[1;33m[\u001b[0m\u001b[1;34m\"minh\"\u001b[0m\u001b[1;33m]\u001b[0m\u001b[1;33m)\u001b[0m \u001b[1;31m#missing data\u001b[0m\u001b[1;33m\u001b[0m\u001b[1;33m\u001b[0m\u001b[0m\n\u001b[0m",
      "\u001b[1;31mKeyError\u001b[0m: 'minh'"
     ]
    }
   ],
   "source": [
    "#insert data in dictonary \n",
    "emptyDictonary={}\n",
    "print(emptyDictonary)\n",
    "print(type(emptyDictonary))\n",
    "emptyDictonary[\"Minhaz\"]=7\n",
    "emptyDictonary[8]=18\n",
    "emptyDictonary[5]=\"roll 5\"\n",
    "emptyDictonary[\"min\"]=\"min\"\n",
    "print(emptyDictonary)\n",
    "\n",
    "#check data\n",
    "print(emptyDictonary[5])\n",
    "print(emptyDictonary[\"Minhaz\"])\n",
    "print(emptyDictonary[\"minh\"]) #missing data"
   ]
  },
  {
   "cell_type": "code",
   "execution_count": 3,
   "metadata": {},
   "outputs": [
    {
     "name": "stdout",
     "output_type": "stream",
     "text": [
      "{'a': 'A', 'b': 'B', 'c': 'C', 'd': 'D', (1, 2, 3): 'tupleDictonary'}\n"
     ]
    },
    {
     "ename": "TypeError",
     "evalue": "unhashable type: 'list'",
     "output_type": "error",
     "traceback": [
      "\u001b[1;31m---------------------------------------------------------------------------\u001b[0m",
      "\u001b[1;31mTypeError\u001b[0m                                 Traceback (most recent call last)",
      "\u001b[1;32m<ipython-input-3-6bb9ba914e04>\u001b[0m in \u001b[0;36m<module>\u001b[1;34m\u001b[0m\n\u001b[0;32m      3\u001b[0m \u001b[0mprint\u001b[0m\u001b[1;33m(\u001b[0m\u001b[0mdictonary1\u001b[0m\u001b[1;33m)\u001b[0m\u001b[1;33m\u001b[0m\u001b[1;33m\u001b[0m\u001b[0m\n\u001b[0;32m      4\u001b[0m \u001b[1;33m\u001b[0m\u001b[0m\n\u001b[1;32m----> 5\u001b[1;33m \u001b[0mdictonary1\u001b[0m\u001b[1;33m[\u001b[0m\u001b[1;33m[\u001b[0m\u001b[1;36m1\u001b[0m\u001b[1;33m,\u001b[0m\u001b[1;36m2\u001b[0m\u001b[1;33m,\u001b[0m\u001b[1;36m3\u001b[0m\u001b[1;33m]\u001b[0m\u001b[1;33m]\u001b[0m\u001b[1;33m=\u001b[0m\u001b[1;34m\"listDictonary\"\u001b[0m \u001b[1;31m#unhashable type: 'list' WRONG দিবে ।\u001b[0m\u001b[1;33m\u001b[0m\u001b[1;33m\u001b[0m\u001b[0m\n\u001b[0m\u001b[0;32m      6\u001b[0m \u001b[0mprint\u001b[0m\u001b[1;33m(\u001b[0m\u001b[0mdictonary1\u001b[0m\u001b[1;33m)\u001b[0m\u001b[1;33m\u001b[0m\u001b[1;33m\u001b[0m\u001b[0m\n\u001b[0;32m      7\u001b[0m \u001b[0mdictonary1\u001b[0m\u001b[1;33m[\u001b[0m\u001b[1;33m{\u001b[0m\u001b[1;36m1\u001b[0m\u001b[1;33m,\u001b[0m\u001b[1;36m2\u001b[0m\u001b[1;33m,\u001b[0m\u001b[1;36m3\u001b[0m\u001b[1;33m}\u001b[0m\u001b[1;33m]\u001b[0m\u001b[1;33m=\u001b[0m\u001b[1;34m\"setDictonary\"\u001b[0m \u001b[1;31m#unhashable type: 'set' WRONG দিবে ।\u001b[0m\u001b[1;33m\u001b[0m\u001b[1;33m\u001b[0m\u001b[0m\n",
      "\u001b[1;31mTypeError\u001b[0m: unhashable type: 'list'"
     ]
    }
   ],
   "source": [
    "dictonary1={'a':\"A\", 'b':\"B\", 'c':\"C\", 'd':\"D\"}\n",
    "dictonary1[(1,2,3)]=\"tupleDictonary\"\n",
    "print(dictonary1)\n",
    "\n",
    "dictonary1[[1,2,3]]=\"listDictonary\" #unhashable type: 'list' WRONG দিবে । \n",
    "print(dictonary1)\n",
    "dictonary1[{1,2,3}]=\"setDictonary\" #unhashable type: 'set' WRONG দিবে । \n",
    "print(dictonary1)"
   ]
  },
  {
   "cell_type": "code",
   "execution_count": 4,
   "metadata": {},
   "outputs": [
    {
     "name": "stdout",
     "output_type": "stream",
     "text": [
      "{'118200': {'BAN': 75, 'ENG': 80, 'ICT': 89, 'PHY': 78, 'CHE': 90, 'MAT': 90, 'BIO': 79}, '118300': {'BAN': 78, 'ENG': 90, 'ICT': 59, 'PHY': 48, 'CHE': 22, 'MAT': 45, 'BIO': 49}}\n",
      "{'BAN': 75, 'ENG': 80, 'ICT': 89, 'PHY': 78, 'CHE': 90, 'MAT': 90, 'BIO': 79}\n",
      "75\n",
      "{'118200': {'BAN': 75, 'ENG': 80, 'ICT': 89, 'PHY': 78, 'CHE': 90, 'MAT': 90, 'BIO': 79}, '118300': {'BAN': 78, 'ENG': 90, 'ICT': 59, 'PHY': 48, 'CHE': 22, 'MAT': 45, 'BIO': 49}, '118846': {'BAN': 75, 'ENG': 80, 'ICT': 91, 'PHY': 78, 'CHE': 90, 'MAT': 90, 'BIO': 79}}\n",
      "{'BAN': 75, 'ENG': 80, 'ICT': 91, 'PHY': 78, 'CHE': 90, 'MAT': 90, 'BIO': 79}\n",
      "91\n"
     ]
    }
   ],
   "source": [
    "#Nested Dictonary\n",
    "dictonary2={\"118200\":{\"BAN\":75, \"ENG\":80, \"ICT\":89, \"PHY\":78, \"CHE\":90, \"MAT\":90, \"BIO\":79},\n",
    "           \"118300\":{\"BAN\":78, \"ENG\":90, \"ICT\":59, \"PHY\":48, \"CHE\":22, \"MAT\":45, \"BIO\":49}}\n",
    "#dictonary\n",
    "print(dictonary2)\n",
    "#dictonary key value\n",
    "print(dictonary2[\"118200\"])\n",
    "#dictonary key value with nested Key value\n",
    "print(dictonary2[\"118200\"][\"BAN\"])\n",
    "\n",
    "#Add data using 'key value'\n",
    "dictonary2[\"118846\"]={\"BAN\":75, \"ENG\":80, \"ICT\":91, \"PHY\":78, \"CHE\":90, \"MAT\":90, \"BIO\":79}\n",
    "print(dictonary2)\n",
    "#dictonary key value\n",
    "print(dictonary2[\"118846\"])\n",
    "#dictonary key value with nested Key value\n",
    "print(dictonary2[\"118846\"][\"ICT\"])"
   ]
  },
  {
   "cell_type": "code",
   "execution_count": 5,
   "metadata": {},
   "outputs": [
    {
     "name": "stdout",
     "output_type": "stream",
     "text": [
      "{'Dhaka': {'district': 13, 'name of districts': 'Dhaka, Faridpur, Gazipur, Gopalganj, Kishoreganj, Madaripur, Manikganj, Munshiganj, Narayanganj, Narsingdi, Rajbari, Shariatpur, Tangail'}, 'Chittagong': {'district': 11, 'name of districts': \"Bandarban, Brahmanbaria, Chandpur, Chittagong, Comilla, Cox's Bazar, Feni, Khagrachari, Lakshmipur, Noakhali, Rangamati\"}, 'Khulna': {'district': 10, 'name of districts': 'Bagerhat, Chuadanga, Jessore, Jhenaidah, Khulna, Kushtia, Magura, Meherpur, Narail, Satkhira'}, 'Rajshahi': {'district': 8, 'name of districts': 'Bogra, Jaipurhat, Naogaon, Natore, Nawabganj, Pabna, Rajshahi, Sirajganj'}, 'Rangpur': {'district': 8, 'name of districts': 'Dinajpur, Gaibandha, Kurigram, Lalmonirhat, Nilphamari, Panchagarh, Rangpur, Thakurgaon'}, 'Barisal': {'district': 6, 'name of districts': 'Barguna, Barisal, Bhola, Jhalokati, Patuakhali, Pirojpur'}, 'Mymensingh': {'district': 4, 'name of districts': 'Jamalpur, Mymensingh, Netrokona, Sherpur'}, 'Sylhet': {'district': 4, 'name of districts': 'Habiganj, Moulvibazar, Sunamganj, Sylhet'}}\n",
      "FOR LOOP\n",
      "Dhaka\n",
      "Chittagong\n",
      "Khulna\n",
      "Rajshahi\n",
      "Rangpur\n",
      "Barisal\n",
      "Mymensingh\n",
      "Sylhet\n",
      "\n",
      "MAIN KEY dict_keys(['Dhaka', 'Chittagong', 'Khulna', 'Rajshahi', 'Rangpur', 'Barisal', 'Mymensingh', 'Sylhet'])\n",
      "Dictonary Key Dhaka\n",
      "Dictonary Key Chittagong\n",
      "Dictonary Key Khulna\n",
      "Dictonary Key Rajshahi\n",
      "Dictonary Key Rangpur\n",
      "Dictonary Key Barisal\n",
      "Dictonary Key Mymensingh\n",
      "Dictonary Key Sylhet\n",
      "DIV Dhaka DIST 13\n",
      "DIV Chittagong DIST 11\n",
      "DIV Khulna DIST 10\n",
      "DIV Rajshahi DIST 8\n",
      "DIV Rangpur DIST 8\n",
      "DIV Barisal DIST 6\n",
      "DIV Mymensingh DIST 4\n",
      "DIV Sylhet DIST 4\n"
     ]
    }
   ],
   "source": [
    "#All Division and Districts in Bangladesh\n",
    "bangladesh_division_district={}\n",
    "bangladesh_division_district[\"Dhaka\"]={\"district\":13, \"name of districts\": \"Dhaka, Faridpur, Gazipur, Gopalganj, Kishoreganj, Madaripur, Manikganj, Munshiganj, Narayanganj, Narsingdi, Rajbari, Shariatpur, Tangail\"}\n",
    "bangladesh_division_district[\"Chittagong\"]={\"district\":11, \"name of districts\": \"Bandarban, Brahmanbaria, Chandpur, Chittagong, Comilla, Cox's Bazar, Feni, Khagrachari, Lakshmipur, Noakhali, Rangamati\"}\n",
    "bangladesh_division_district[\"Khulna\"]={\"district\":10, \"name of districts\": \"Bagerhat, Chuadanga, Jessore, Jhenaidah, Khulna, Kushtia, Magura, Meherpur, Narail, Satkhira\"}\n",
    "bangladesh_division_district[\"Rajshahi\"]={\"district\":8, \"name of districts\": \"Bogra, Jaipurhat, Naogaon, Natore, Nawabganj, Pabna, Rajshahi, Sirajganj\"}\n",
    "bangladesh_division_district[\"Rangpur\"]={\"district\":8, \"name of districts\": \"Dinajpur, Gaibandha, Kurigram, Lalmonirhat, Nilphamari, Panchagarh, Rangpur, Thakurgaon\"}\n",
    "bangladesh_division_district[\"Barisal\"]={\"district\":6, \"name of districts\": \"Barguna, Barisal, Bhola, Jhalokati, Patuakhali, Pirojpur\"}\n",
    "bangladesh_division_district[\"Mymensingh\"]={\"district\":4, \"name of districts\": \"Jamalpur, Mymensingh, Netrokona, Sherpur\"}\n",
    "bangladesh_division_district[\"Sylhet\"]={\"district\":4, \"name of districts\": \"Habiganj, Moulvibazar, Sunamganj, Sylhet\"}\n",
    "#Full information\n",
    "print(bangladesh_division_district)\n",
    "#for loop\n",
    "print(\"FOR LOOP\")\n",
    "for i in bangladesh_division_district:\n",
    "    print(i)\n",
    "\n",
    "#Only Main Key\n",
    "print(\"\\nMAIN KEY\",bangladesh_division_district.keys())\n",
    "#using For Loop\n",
    "for i in bangladesh_division_district.keys():\n",
    "    print(f\"Dictonary Key {i}\")\n",
    "for i in bangladesh_division_district.keys():\n",
    "    print(\"DIV\",i,\"DIST\",bangladesh_division_district[i][\"district\"])"
   ]
  },
  {
   "cell_type": "code",
   "execution_count": 6,
   "metadata": {},
   "outputs": [
    {
     "name": "stdout",
     "output_type": "stream",
     "text": [
      "Dhaka\n",
      "{'district': 13, 'name of districts': 'Dhaka, Faridpur, Gazipur, Gopalganj, Kishoreganj, Madaripur, Manikganj, Munshiganj, Narayanganj, Narsingdi, Rajbari, Shariatpur, Tangail'}\n",
      "Chittagong\n",
      "{'district': 11, 'name of districts': \"Bandarban, Brahmanbaria, Chandpur, Chittagong, Comilla, Cox's Bazar, Feni, Khagrachari, Lakshmipur, Noakhali, Rangamati\"}\n",
      "Khulna\n",
      "{'district': 10, 'name of districts': 'Bagerhat, Chuadanga, Jessore, Jhenaidah, Khulna, Kushtia, Magura, Meherpur, Narail, Satkhira'}\n",
      "Rajshahi\n",
      "{'district': 8, 'name of districts': 'Bogra, Jaipurhat, Naogaon, Natore, Nawabganj, Pabna, Rajshahi, Sirajganj'}\n",
      "Rangpur\n",
      "{'district': 8, 'name of districts': 'Dinajpur, Gaibandha, Kurigram, Lalmonirhat, Nilphamari, Panchagarh, Rangpur, Thakurgaon'}\n",
      "Barisal\n",
      "{'district': 6, 'name of districts': 'Barguna, Barisal, Bhola, Jhalokati, Patuakhali, Pirojpur'}\n",
      "Mymensingh\n",
      "{'district': 4, 'name of districts': 'Jamalpur, Mymensingh, Netrokona, Sherpur'}\n",
      "Sylhet\n",
      "{'district': 4, 'name of districts': 'Habiganj, Moulvibazar, Sunamganj, Sylhet'}\n",
      "\n",
      "\n",
      "NEW PROGRAM\n",
      "\n",
      "\n",
      "Dhaka\n",
      "{'district': 13, 'name of districts': 'Dhaka, Faridpur, Gazipur, Gopalganj, Kishoreganj, Madaripur, Manikganj, Munshiganj, Narayanganj, Narsingdi, Rajbari, Shariatpur, Tangail'}\n",
      "Chittagong\n",
      "{'district': 11, 'name of districts': \"Bandarban, Brahmanbaria, Chandpur, Chittagong, Comilla, Cox's Bazar, Feni, Khagrachari, Lakshmipur, Noakhali, Rangamati\"}\n",
      "Khulna\n",
      "{'district': 10, 'name of districts': 'Bagerhat, Chuadanga, Jessore, Jhenaidah, Khulna, Kushtia, Magura, Meherpur, Narail, Satkhira'}\n",
      "Rajshahi\n",
      "{'district': 8, 'name of districts': 'Bogra, Jaipurhat, Naogaon, Natore, Nawabganj, Pabna, Rajshahi, Sirajganj'}\n",
      "Rangpur\n",
      "{'district': 8, 'name of districts': 'Dinajpur, Gaibandha, Kurigram, Lalmonirhat, Nilphamari, Panchagarh, Rangpur, Thakurgaon'}\n",
      "Barisal\n",
      "{'district': 6, 'name of districts': 'Barguna, Barisal, Bhola, Jhalokati, Patuakhali, Pirojpur'}\n",
      "Mymensingh\n",
      "{'district': 4, 'name of districts': 'Jamalpur, Mymensingh, Netrokona, Sherpur'}\n",
      "Sylhet\n",
      "{'district': 4, 'name of districts': 'Habiganj, Moulvibazar, Sunamganj, Sylhet'}\n"
     ]
    }
   ],
   "source": [
    "for value in bangladesh_division_district:\n",
    "    print(value)\n",
    "    print(bangladesh_division_district[value])\n",
    "\n",
    "#Alternative program\n",
    "print(\"\\n\\nNEW PROGRAM\\n\\n\")\n",
    "for i,j in bangladesh_division_district.items():\n",
    "    print(i)\n",
    "    print(j)"
   ]
  },
  {
   "cell_type": "markdown",
   "metadata": {},
   "source": [
    "### Random Number"
   ]
  },
  {
   "cell_type": "code",
   "execution_count": 7,
   "metadata": {},
   "outputs": [
    {
     "name": "stdout",
     "output_type": "stream",
     "text": [
      "0.944529972195422\n",
      "37\n",
      "12\n"
     ]
    }
   ],
   "source": [
    "import random\n",
    "x=random.random()\n",
    "print(x)\n",
    "#random number in a RANGE\n",
    "x=random.randint(10,50)\n",
    "print(x)\n",
    "x=random.randint(10,50)\n",
    "print(x)"
   ]
  },
  {
   "cell_type": "code",
   "execution_count": 8,
   "metadata": {},
   "outputs": [
    {
     "name": "stdout",
     "output_type": "stream",
     "text": [
      "Guess the number between 1 to 1000\t500\n",
      "Incorrect! Plz try to guess a smaller number\n",
      "Guess the number between 1 to 1000\t250\n",
      "Incorrect! Plz try to guess a smaller number\n",
      "Guess the number between 1 to 1000\t125\n",
      "Incorrect! Plz try to guess a larger number\n",
      "Guess the number between 1 to 1000\t185\n",
      "Incorrect! Plz try to guess a smaller number\n",
      "Guess the number between 1 to 1000\t155\n",
      "Incorrect! Plz try to guess a larger number\n",
      "Guess the number between 1 to 1000\t170\n",
      "Incorrect! Plz try to guess a smaller number\n",
      "Guess the number between 1 to 1000\t162\n",
      "Incorrect! Plz try to guess a smaller number\n",
      "Guess the number between 1 to 1000\t159\n",
      "Yes, your guess is correct!\n",
      "you tried 8 times to find the correct number\n"
     ]
    }
   ],
   "source": [
    "#Binary Search Games\n",
    "import random as r\n",
    "number = r.randint(1,1000)\n",
    "attempts=0\n",
    "while True:\n",
    "    scan=int(input(\"Guess the number between 1 to 1000\\t\"))\n",
    "    attempts+=1\n",
    "    if scan==number:\n",
    "        print(\"Yes, your guess is correct!\")\n",
    "        break\n",
    "    if scan>number:\n",
    "        print(\"Incorrect! Plz try to guess a smaller number\")\n",
    "    else:\n",
    "        print(\"Incorrect! Plz try to guess a larger number\")\n",
    "print(\"you tried\",attempts, \"times to find the correct number\")"
   ]
  },
  {
   "cell_type": "code",
   "execution_count": 9,
   "metadata": {},
   "outputs": [
    {
     "name": "stdout",
     "output_type": "stream",
     "text": [
      "Guess the number between 1 to 1000\t\n",
      "Input Value 500\n",
      "Incorrect! Plz try to guess a larger number\n",
      "Guess the number between 1 to 1000\t\n",
      "Input Value 749\n",
      "Incorrect! Plz try to guess a larger number\n",
      "Guess the number between 1 to 1000\t\n",
      "Input Value 874\n",
      "Incorrect! Plz try to guess a larger number\n",
      "Guess the number between 1 to 1000\t\n",
      "Input Value 936\n",
      "Incorrect! Plz try to guess a smaller number\n",
      "Guess the number between 1 to 1000\t\n",
      "Input Value 905\n",
      "Incorrect! Plz try to guess a smaller number\n",
      "Guess the number between 1 to 1000\t\n",
      "Input Value 889\n",
      "Incorrect! Plz try to guess a larger number\n",
      "Guess the number between 1 to 1000\t\n",
      "Input Value 897\n",
      "Incorrect! Plz try to guess a larger number\n",
      "Guess the number between 1 to 1000\t\n",
      "Input Value 901\n",
      "Incorrect! Plz try to guess a smaller number\n",
      "Guess the number between 1 to 1000\t\n",
      "Input Value 899\n",
      "Incorrect! Plz try to guess a larger number\n",
      "Guess the number between 1 to 1000\t\n",
      "Input Value 900\n",
      "Yes, your guess is correct!\n",
      "you tried 10 times to find the correct number\n"
     ]
    }
   ],
   "source": [
    "#Binary Search\n",
    "import random as r\n",
    "number = r.randint(1,1000)\n",
    "attempts=0\n",
    "start=1\n",
    "end=1000\n",
    "while True:\n",
    "    print(\"Guess the number between 1 to 1000\\t\")\n",
    "    scan=(start+end)//2\n",
    "    print(\"Input Value\", scan)\n",
    "    attempts+=1\n",
    "    if scan==number:\n",
    "        print(\"Yes, your guess is correct!\")\n",
    "        break\n",
    "    if scan>number:\n",
    "        print(\"Incorrect! Plz try to guess a smaller number\")\n",
    "        end=scan+1\n",
    "    else:\n",
    "        print(\"Incorrect! Plz try to guess a larger number\")\n",
    "        start=scan-1\n",
    "print(\"you tried\",attempts, \"times to find the correct number\")"
   ]
  },
  {
   "cell_type": "code",
   "execution_count": 10,
   "metadata": {},
   "outputs": [
    {
     "name": "stdout",
     "output_type": "stream",
     "text": [
      "81.92652700000001 4.10835609999998 19.9414376470434\n"
     ]
    }
   ],
   "source": [
    "#Prime Number Efficient Program\n",
    "import math as mt\n",
    "def prime1(n=1013):\n",
    "    if n<2:\n",
    "        return False\n",
    "    if n==2:\n",
    "        return True\n",
    "    if n%2==0:\n",
    "        return False\n",
    "    m=int(mt.sqrt(n))+1\n",
    "    for x in range (3,m,2):\n",
    "        if n%2==0:\n",
    "            return False\n",
    "    return True\n",
    "\n",
    "def prime2(n=1013):\n",
    "    if n==2:\n",
    "        return True\n",
    "    if n%2==0:\n",
    "        return False\n",
    "    if n<2==0:\n",
    "        return False\n",
    "    prime=True\n",
    "    for x in range (3,n,2):\n",
    "        if n%2==0:\n",
    "            prime=False\n",
    "            return prime\n",
    "    return prime\n",
    "\n",
    "import timeit\n",
    "time1=timeit.timeit(prime2)\n",
    "time2=timeit.timeit(prime1)\n",
    "print(time1, time2, time1/time2)"
   ]
  },
  {
   "cell_type": "code",
   "execution_count": 11,
   "metadata": {},
   "outputs": [
    {
     "name": "stdout",
     "output_type": "stream",
     "text": [
      "A Number10\n",
      "55\n"
     ]
    }
   ],
   "source": [
    "fibX=1\n",
    "fibNext=1\n",
    "n=int(input(\"A Number\"))\n",
    "\n",
    "if n<=2:\n",
    "    fibN=1\n",
    "else:\n",
    "    i=3\n",
    "    while i<=n:\n",
    "        i+=1\n",
    "        fibTemp=fibX+fibNext\n",
    "        fibX=fibNext\n",
    "        fibNext=fibTemp\n",
    "    fibN=fibNext\n",
    "print(fibN)"
   ]
  },
  {
   "cell_type": "code",
   "execution_count": 12,
   "metadata": {},
   "outputs": [
    {
     "name": "stdout",
     "output_type": "stream",
     "text": [
      "A Number10\n",
      "55\n"
     ]
    }
   ],
   "source": [
    "fibX=1\n",
    "fibNext=1\n",
    "n=int(input(\"A Number\"))\n",
    "\n",
    "if n<=2:\n",
    "    fibN=1\n",
    "else:\n",
    "    i=3\n",
    "    while i<=n:\n",
    "        i+=1\n",
    "        fibNext,fibX = fibNext+fibX, fibNext\n",
    "    fibN=fibNext\n",
    "print(fibN)"
   ]
  }
 ],
 "metadata": {
  "kernelspec": {
   "display_name": "Python 3",
   "language": "python",
   "name": "python3"
  },
  "language_info": {
   "codemirror_mode": {
    "name": "ipython",
    "version": 3
   },
   "file_extension": ".py",
   "mimetype": "text/x-python",
   "name": "python",
   "nbconvert_exporter": "python",
   "pygments_lexer": "ipython3",
   "version": "3.7.6"
  }
 },
 "nbformat": 4,
 "nbformat_minor": 4
}
